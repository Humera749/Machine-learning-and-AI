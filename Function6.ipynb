{
 "cells": [
  {
   "cell_type": "code",
   "execution_count": 89,
   "id": "06a1c36d-09ee-45bf-868a-d0d9eaf93731",
   "metadata": {},
   "outputs": [],
   "source": [
    "import numpy as np\n",
    "import matplotlib.pyplot as plt\n",
    "from mpl_toolkits.mplot3d import Axes3D\n",
    "from sklearn.gaussian_process import GaussianProcessRegressor"
   ]
  },
  {
   "cell_type": "code",
   "execution_count": 90,
   "id": "2a12c518-0569-412b-9809-8f1a663514dc",
   "metadata": {},
   "outputs": [],
   "source": [
    "X1 = np.load(r'C:\\Users\\xdb13122\\Desktop\\ML Course\\capstone project\\initial_data\\function_6\\initial_inputs.npy')\n",
    "Y1 = np.load(r'C:\\Users\\xdb13122\\Desktop\\ML Course\\capstone project\\initial_data\\function_6\\initial_outputs.npy')\n",
    "X2 = np.load(r'C:\\Users\\xdb13122\\Desktop\\ML Course\\capstone project\\initial_data2\\function_6\\initial_inputs.npy')\n",
    "Y2 = np.load(r'C:\\Users\\xdb13122\\Desktop\\ML Course\\capstone project\\initial_data2\\function_6\\initial_outputs.npy')\n",
    "X = np.concatenate((X1, X2), axis=0)\n",
    "Y = np.concatenate((Y1, Y2), axis=0)"
   ]
  },
  {
   "cell_type": "code",
   "execution_count": 91,
   "id": "db98596d-3b8e-48c9-a3c4-fa0fc49648c8",
   "metadata": {},
   "outputs": [
    {
     "data": {
      "text/plain": [
       "array([[7.28186105e-01, 1.54692570e-01, 7.32551669e-01, 6.93996509e-01,\n",
       "        5.64013105e-02],\n",
       "       [2.42384347e-01, 8.44099972e-01, 5.77809099e-01, 6.79021284e-01,\n",
       "        5.01952888e-01],\n",
       "       [7.29522610e-01, 7.48106200e-01, 6.79774641e-01, 3.56552279e-01,\n",
       "        6.71053683e-01],\n",
       "       [7.70620242e-01, 1.14403744e-01, 4.67799319e-02, 6.48324285e-01,\n",
       "        2.73549053e-01],\n",
       "       [6.18812299e-01, 3.31802137e-01, 1.87287868e-01, 7.56238474e-01,\n",
       "        3.28834798e-01],\n",
       "       [7.84958094e-01, 9.10682349e-01, 7.08120104e-01, 9.59225429e-01,\n",
       "        4.91149586e-03],\n",
       "       [1.45110786e-01, 8.96684598e-01, 8.96322235e-01, 7.26271537e-01,\n",
       "        2.36271991e-01],\n",
       "       [9.45069068e-01, 2.88459051e-01, 9.78805764e-01, 9.61655587e-01,\n",
       "        5.98015936e-01],\n",
       "       [1.25720155e-01, 8.62724692e-01, 2.85443322e-02, 2.46605272e-01,\n",
       "        7.51206241e-01],\n",
       "       [7.57594355e-01, 3.55831415e-01, 1.65228997e-02, 4.34207205e-01,\n",
       "        1.12433044e-01],\n",
       "       [5.36796903e-01, 3.08780907e-01, 4.11879285e-01, 3.88225177e-01,\n",
       "        5.22528304e-01],\n",
       "       [9.57739669e-01, 2.35668572e-01, 9.91458496e-02, 1.56805934e-01,\n",
       "        7.13173731e-02],\n",
       "       [6.29307895e-01, 8.03483678e-01, 8.11408439e-01, 4.56131858e-02,\n",
       "        1.10624462e-01],\n",
       "       [2.17353077e-02, 4.28084240e-01, 8.35939437e-01, 4.89488659e-01,\n",
       "        5.11081735e-01],\n",
       "       [4.39344264e-01, 6.98923833e-01, 4.26820222e-01, 1.09476085e-01,\n",
       "        8.77888468e-01],\n",
       "       [2.58905574e-01, 7.93677708e-01, 6.42113905e-01, 1.96673464e-01,\n",
       "        5.93103177e-01],\n",
       "       [4.32165933e-01, 7.15617813e-01, 3.41819103e-01, 7.04999881e-01,\n",
       "        6.14961845e-01],\n",
       "       [7.82879823e-01, 5.36335859e-01, 4.43283557e-01, 8.59699826e-01,\n",
       "        1.03259907e-02],\n",
       "       [9.21776198e-01, 9.31871216e-01, 4.14876370e-01, 5.95057266e-01,\n",
       "        7.35625686e-01],\n",
       "       [1.26678917e-01, 2.91470301e-01, 6.45284767e-02, 6.80514603e-01,\n",
       "        8.92819191e-01],\n",
       "       [6.97723900e-02, 9.05961702e-01, 5.81371295e-01, 7.93773491e-01,\n",
       "        6.33474699e-01],\n",
       "       [5.89460534e-01, 2.85972593e-01, 3.82278689e-01, 2.29949495e-01,\n",
       "        2.94870864e-01],\n",
       "       [9.83661022e-01, 6.28297168e-02, 9.23458314e-04, 6.59843881e-01,\n",
       "        2.61878265e-01],\n",
       "       [4.98313016e-01, 1.15365571e-01, 1.60564383e-01, 8.62792633e-01,\n",
       "        8.69429956e-01],\n",
       "       [6.37905499e-01, 7.75548554e-02, 8.23803045e-01, 4.56114689e-01,\n",
       "        1.42819953e-01],\n",
       "       [4.46594314e-01, 7.15371466e-01, 1.79792313e-01, 8.01558506e-01,\n",
       "        3.79340852e-01],\n",
       "       [8.55980529e-01, 2.66164664e-01, 3.59415676e-01, 8.53218312e-01,\n",
       "        3.69171983e-01],\n",
       "       [4.20336189e-01, 2.44291651e-02, 2.16122552e-01, 1.65697307e-01,\n",
       "        6.47693135e-01],\n",
       "       [5.51354206e-01, 8.94645799e-01, 6.87065669e-01, 4.74903577e-01,\n",
       "        4.22534569e-02],\n",
       "       [5.30161804e-01, 3.69501183e-01, 2.46963575e-01, 5.06557225e-01,\n",
       "        5.10196329e-01],\n",
       "       [2.29979072e-01, 8.13701312e-01, 4.70483381e-01, 2.60403402e-01,\n",
       "        7.78366035e-01],\n",
       "       [8.51032914e-01, 8.26281239e-01, 6.63707578e-01, 2.34632175e-01,\n",
       "        2.75700067e-02],\n",
       "       [1.17619596e-01, 5.31916499e-01, 9.96195410e-01, 9.65946735e-01,\n",
       "        9.38190216e-01],\n",
       "       [6.84351655e-01, 6.62939625e-02, 2.80894125e-01, 7.89572913e-02,\n",
       "        2.14562241e-01],\n",
       "       [9.09326290e-01, 5.58268750e-01, 9.83967523e-01, 4.79195443e-01,\n",
       "        1.44355300e-01],\n",
       "       [8.99462881e-01, 4.65748383e-01, 3.31575075e-01, 7.46143252e-01,\n",
       "        7.11949665e-01],\n",
       "       [6.91004189e-01, 6.63477347e-01, 7.66697727e-01, 9.08877784e-02,\n",
       "        4.75686449e-01],\n",
       "       [9.30265490e-01, 3.32215131e-01, 2.29722663e-02, 5.09173472e-01,\n",
       "        6.60459395e-01],\n",
       "       [4.42031649e-01, 2.50872531e-01, 6.46960634e-01, 4.64149887e-02,\n",
       "        2.54111290e-01],\n",
       "       [6.99747178e-01, 3.71075258e-01, 1.49148128e-01, 5.59749377e-01,\n",
       "        7.72043598e-01]])"
      ]
     },
     "execution_count": 91,
     "metadata": {},
     "output_type": "execute_result"
    }
   ],
   "source": [
    "X"
   ]
  },
  {
   "cell_type": "code",
   "execution_count": 92,
   "id": "5c273fa7-4667-44e8-a577-b22dcfedd28c",
   "metadata": {},
   "outputs": [],
   "source": [
    "new_row = np.array([[0.977718, 0.138594, 0.867264, 0.284583, 0.112673], [0.920995, 0.03783 , 0.48097 , 0.58218 , 0.724458], [0.268528, 0.232648, 0.284285, 0.905266, 0.786491],[0.268528, 0.232648, 0.284285, 0.905266, 0.786491], [0.578296, 0.730171, 0.818198, 0.493648, 0.840202], [0.515191, 0.187116, 0.55999 , 0.893004, 0.45831]])\n",
    "X = np.concatenate((X, new_row), axis=0)"
   ]
  },
  {
   "cell_type": "code",
   "execution_count": 93,
   "id": "59b67f29-edc5-4616-b881-9513cf5b62b0",
   "metadata": {},
   "outputs": [
    {
     "data": {
      "text/plain": [
       "array([[7.28186105e-01, 1.54692570e-01, 7.32551669e-01, 6.93996509e-01,\n",
       "        5.64013105e-02],\n",
       "       [2.42384347e-01, 8.44099972e-01, 5.77809099e-01, 6.79021284e-01,\n",
       "        5.01952888e-01],\n",
       "       [7.29522610e-01, 7.48106200e-01, 6.79774641e-01, 3.56552279e-01,\n",
       "        6.71053683e-01],\n",
       "       [7.70620242e-01, 1.14403744e-01, 4.67799319e-02, 6.48324285e-01,\n",
       "        2.73549053e-01],\n",
       "       [6.18812299e-01, 3.31802137e-01, 1.87287868e-01, 7.56238474e-01,\n",
       "        3.28834798e-01],\n",
       "       [7.84958094e-01, 9.10682349e-01, 7.08120104e-01, 9.59225429e-01,\n",
       "        4.91149586e-03],\n",
       "       [1.45110786e-01, 8.96684598e-01, 8.96322235e-01, 7.26271537e-01,\n",
       "        2.36271991e-01],\n",
       "       [9.45069068e-01, 2.88459051e-01, 9.78805764e-01, 9.61655587e-01,\n",
       "        5.98015936e-01],\n",
       "       [1.25720155e-01, 8.62724692e-01, 2.85443322e-02, 2.46605272e-01,\n",
       "        7.51206241e-01],\n",
       "       [7.57594355e-01, 3.55831415e-01, 1.65228997e-02, 4.34207205e-01,\n",
       "        1.12433044e-01],\n",
       "       [5.36796903e-01, 3.08780907e-01, 4.11879285e-01, 3.88225177e-01,\n",
       "        5.22528304e-01],\n",
       "       [9.57739669e-01, 2.35668572e-01, 9.91458496e-02, 1.56805934e-01,\n",
       "        7.13173731e-02],\n",
       "       [6.29307895e-01, 8.03483678e-01, 8.11408439e-01, 4.56131858e-02,\n",
       "        1.10624462e-01],\n",
       "       [2.17353077e-02, 4.28084240e-01, 8.35939437e-01, 4.89488659e-01,\n",
       "        5.11081735e-01],\n",
       "       [4.39344264e-01, 6.98923833e-01, 4.26820222e-01, 1.09476085e-01,\n",
       "        8.77888468e-01],\n",
       "       [2.58905574e-01, 7.93677708e-01, 6.42113905e-01, 1.96673464e-01,\n",
       "        5.93103177e-01],\n",
       "       [4.32165933e-01, 7.15617813e-01, 3.41819103e-01, 7.04999881e-01,\n",
       "        6.14961845e-01],\n",
       "       [7.82879823e-01, 5.36335859e-01, 4.43283557e-01, 8.59699826e-01,\n",
       "        1.03259907e-02],\n",
       "       [9.21776198e-01, 9.31871216e-01, 4.14876370e-01, 5.95057266e-01,\n",
       "        7.35625686e-01],\n",
       "       [1.26678917e-01, 2.91470301e-01, 6.45284767e-02, 6.80514603e-01,\n",
       "        8.92819191e-01],\n",
       "       [6.97723900e-02, 9.05961702e-01, 5.81371295e-01, 7.93773491e-01,\n",
       "        6.33474699e-01],\n",
       "       [5.89460534e-01, 2.85972593e-01, 3.82278689e-01, 2.29949495e-01,\n",
       "        2.94870864e-01],\n",
       "       [9.83661022e-01, 6.28297168e-02, 9.23458314e-04, 6.59843881e-01,\n",
       "        2.61878265e-01],\n",
       "       [4.98313016e-01, 1.15365571e-01, 1.60564383e-01, 8.62792633e-01,\n",
       "        8.69429956e-01],\n",
       "       [6.37905499e-01, 7.75548554e-02, 8.23803045e-01, 4.56114689e-01,\n",
       "        1.42819953e-01],\n",
       "       [4.46594314e-01, 7.15371466e-01, 1.79792313e-01, 8.01558506e-01,\n",
       "        3.79340852e-01],\n",
       "       [8.55980529e-01, 2.66164664e-01, 3.59415676e-01, 8.53218312e-01,\n",
       "        3.69171983e-01],\n",
       "       [4.20336189e-01, 2.44291651e-02, 2.16122552e-01, 1.65697307e-01,\n",
       "        6.47693135e-01],\n",
       "       [5.51354206e-01, 8.94645799e-01, 6.87065669e-01, 4.74903577e-01,\n",
       "        4.22534569e-02],\n",
       "       [5.30161804e-01, 3.69501183e-01, 2.46963575e-01, 5.06557225e-01,\n",
       "        5.10196329e-01],\n",
       "       [2.29979072e-01, 8.13701312e-01, 4.70483381e-01, 2.60403402e-01,\n",
       "        7.78366035e-01],\n",
       "       [8.51032914e-01, 8.26281239e-01, 6.63707578e-01, 2.34632175e-01,\n",
       "        2.75700067e-02],\n",
       "       [1.17619596e-01, 5.31916499e-01, 9.96195410e-01, 9.65946735e-01,\n",
       "        9.38190216e-01],\n",
       "       [6.84351655e-01, 6.62939625e-02, 2.80894125e-01, 7.89572913e-02,\n",
       "        2.14562241e-01],\n",
       "       [9.09326290e-01, 5.58268750e-01, 9.83967523e-01, 4.79195443e-01,\n",
       "        1.44355300e-01],\n",
       "       [8.99462881e-01, 4.65748383e-01, 3.31575075e-01, 7.46143252e-01,\n",
       "        7.11949665e-01],\n",
       "       [6.91004189e-01, 6.63477347e-01, 7.66697727e-01, 9.08877784e-02,\n",
       "        4.75686449e-01],\n",
       "       [9.30265490e-01, 3.32215131e-01, 2.29722663e-02, 5.09173472e-01,\n",
       "        6.60459395e-01],\n",
       "       [4.42031649e-01, 2.50872531e-01, 6.46960634e-01, 4.64149887e-02,\n",
       "        2.54111290e-01],\n",
       "       [6.99747178e-01, 3.71075258e-01, 1.49148128e-01, 5.59749377e-01,\n",
       "        7.72043598e-01],\n",
       "       [9.77718000e-01, 1.38594000e-01, 8.67264000e-01, 2.84583000e-01,\n",
       "        1.12673000e-01],\n",
       "       [9.20995000e-01, 3.78300000e-02, 4.80970000e-01, 5.82180000e-01,\n",
       "        7.24458000e-01],\n",
       "       [2.68528000e-01, 2.32648000e-01, 2.84285000e-01, 9.05266000e-01,\n",
       "        7.86491000e-01],\n",
       "       [2.68528000e-01, 2.32648000e-01, 2.84285000e-01, 9.05266000e-01,\n",
       "        7.86491000e-01],\n",
       "       [5.78296000e-01, 7.30171000e-01, 8.18198000e-01, 4.93648000e-01,\n",
       "        8.40202000e-01],\n",
       "       [5.15191000e-01, 1.87116000e-01, 5.59990000e-01, 8.93004000e-01,\n",
       "        4.58310000e-01]])"
      ]
     },
     "execution_count": 93,
     "metadata": {},
     "output_type": "execute_result"
    }
   ],
   "source": [
    "X"
   ]
  },
  {
   "cell_type": "code",
   "execution_count": 94,
   "id": "665d3779-c0a7-44c7-b069-0f69e63bf7cd",
   "metadata": {},
   "outputs": [
    {
     "data": {
      "text/plain": [
       "array([-0.71426495, -1.20995524, -1.67219994, -1.53605771, -0.82923655,\n",
       "       -1.24704893, -1.23378638, -1.69434344, -2.57116963, -1.30911635,\n",
       "       -1.14478485, -1.91267714, -1.62283895, -1.35668211, -2.0184254 ,\n",
       "       -1.70255784, -1.29424696, -0.93575656, -2.15576776, -1.74688209,\n",
       "       -1.51269542, -1.34959856, -1.82739562, -1.71602331, -0.97248425,\n",
       "       -1.20521138, -1.10099104, -1.91309535, -1.05157417, -1.19458833,\n",
       "       -2.06906505, -1.48937327, -1.82528398, -1.7476171 , -1.35823203,\n",
       "       -1.44913772, -1.81134837, -2.00771782, -0.99967761, -1.67533648])"
      ]
     },
     "execution_count": 94,
     "metadata": {},
     "output_type": "execute_result"
    }
   ],
   "source": [
    "Y"
   ]
  },
  {
   "cell_type": "code",
   "execution_count": 95,
   "id": "fb0bdfab-4217-47df-a245-1c0cf0843847",
   "metadata": {},
   "outputs": [],
   "source": [
    "new_row = np.array([-1.431987070285614,  -1.8041381484255152, -1.4224869897156354, -1.5272868582803165, -1.6867407199659736, -0.9222380101975867])\n",
    "Y = np.concatenate((Y, new_row), axis=0)"
   ]
  },
  {
   "cell_type": "code",
   "execution_count": 96,
   "id": "c6e3453c-dbb9-43c4-97b4-b7292de4882f",
   "metadata": {},
   "outputs": [
    {
     "data": {
      "text/plain": [
       "array([-0.71426495, -1.20995524, -1.67219994, -1.53605771, -0.82923655,\n",
       "       -1.24704893, -1.23378638, -1.69434344, -2.57116963, -1.30911635,\n",
       "       -1.14478485, -1.91267714, -1.62283895, -1.35668211, -2.0184254 ,\n",
       "       -1.70255784, -1.29424696, -0.93575656, -2.15576776, -1.74688209,\n",
       "       -1.51269542, -1.34959856, -1.82739562, -1.71602331, -0.97248425,\n",
       "       -1.20521138, -1.10099104, -1.91309535, -1.05157417, -1.19458833,\n",
       "       -2.06906505, -1.48937327, -1.82528398, -1.7476171 , -1.35823203,\n",
       "       -1.44913772, -1.81134837, -2.00771782, -0.99967761, -1.67533648,\n",
       "       -1.43198707, -1.80413815, -1.42248699, -1.52728686, -1.68674072,\n",
       "       -0.92223801])"
      ]
     },
     "execution_count": 96,
     "metadata": {},
     "output_type": "execute_result"
    }
   ],
   "source": [
    "Y"
   ]
  },
  {
   "cell_type": "code",
   "execution_count": 97,
   "id": "eb9873bd-0ced-4a93-82ea-ace2f6bb8da8",
   "metadata": {},
   "outputs": [
    {
     "name": "stderr",
     "output_type": "stream",
     "text": [
      "C:\\Users\\xdb13122\\AppData\\Local\\anaconda3\\Lib\\site-packages\\sklearn\\gaussian_process\\_gpr.py:659: ConvergenceWarning: lbfgs failed to converge (status=2):\n",
      "ABNORMAL_TERMINATION_IN_LNSRCH.\n",
      "\n",
      "Increase the number of iterations (max_iter) or scale the data as shown in:\n",
      "    https://scikit-learn.org/stable/modules/preprocessing.html\n",
      "  _check_optimize_result(\"lbfgs\", opt_res)\n",
      "C:\\Users\\xdb13122\\AppData\\Local\\anaconda3\\Lib\\site-packages\\sklearn\\gaussian_process\\_gpr.py:659: ConvergenceWarning: lbfgs failed to converge (status=2):\n",
      "ABNORMAL_TERMINATION_IN_LNSRCH.\n",
      "\n",
      "Increase the number of iterations (max_iter) or scale the data as shown in:\n",
      "    https://scikit-learn.org/stable/modules/preprocessing.html\n",
      "  _check_optimize_result(\"lbfgs\", opt_res)\n"
     ]
    },
    {
     "name": "stdout",
     "output_type": "stream",
     "text": [
      "Optimal Ingredients: [0.12572016 0.86272469 0.02854433 0.24660527 0.75120624]\n",
      "Optimal Score: -2.5711696316081234\n"
     ]
    },
    {
     "name": "stderr",
     "output_type": "stream",
     "text": [
      "C:\\Users\\xdb13122\\AppData\\Local\\anaconda3\\Lib\\site-packages\\sklearn\\gaussian_process\\_gpr.py:659: ConvergenceWarning: lbfgs failed to converge (status=2):\n",
      "ABNORMAL_TERMINATION_IN_LNSRCH.\n",
      "\n",
      "Increase the number of iterations (max_iter) or scale the data as shown in:\n",
      "    https://scikit-learn.org/stable/modules/preprocessing.html\n",
      "  _check_optimize_result(\"lbfgs\", opt_res)\n"
     ]
    }
   ],
   "source": [
    "import numpy as np\n",
    "from sklearn.gaussian_process import GaussianProcessRegressor\n",
    "from sklearn.gaussian_process.kernels import Matern\n",
    "from scipy.optimize import minimize\n",
    "from scipy.stats import norm  # Importing norm from scipy.stats for the acquisition function\n",
    "from sklearn.preprocessing import StandardScaler\n",
    "from sklearn.gaussian_process import GaussianProcessRegressor\n",
    "from sklearn.gaussian_process.kernels import Matern\n",
    "# Initial data\n",
    "X = X\n",
    "y = Y\n",
    "scaler = StandardScaler()\n",
    "X_scaled = scaler.fit_transform(X)\n",
    "# Define the Gaussian Process model with Matern kernel (suitable for noisy functions)\n",
    "kernel = Matern(nu=2.5)\n",
    "gp = GaussianProcessRegressor(kernel=kernel, n_restarts_optimizer=10, alpha=1e-6, optimizer=\"fmin_l_bfgs_b\")\n",
    "\n",
    "# Fit the GP model to the initial data\n",
    "gp.fit(X_scaled, y)\n",
    "\n",
    "# Define the acquisition function (Expected Improvement)\n",
    "def acquisition_function(x, gp, y_min):\n",
    "    mean, std = gp.predict(x.reshape(1, -1), return_std=True)\n",
    "    std = std.reshape(-1, 1)\n",
    "    z = (y_min - mean) / std\n",
    "    return (y_min - mean) * norm.cdf(z) + std * norm.pdf(z)\n",
    "\n",
    "# Optimization routine for selecting new points\n",
    "n_iterations = 50\n",
    "for i in range(n_iterations):\n",
    "    # Minimum of observed values\n",
    "    y_min = np.min(y)\n",
    "\n",
    "    # Minimize the acquisition function to find the next best point\n",
    "    x_next = minimize(lambda x: acquisition_function(x, gp, y_min), \n",
    "                      x0=np.random.rand(5), bounds=[(0, 1)]*5, \n",
    "                      method='L-BFGS-B').x\n",
    "\n",
    "    # Predict the output using the Gaussian Process model for the new point\n",
    "    y_next, _ = gp.predict(x_next.reshape(1, -1), return_std=True)\n",
    "\n",
    "    # Append new point to data\n",
    "    X = np.vstack((X, x_next))\n",
    "    y = np.append(y, y_next)\n",
    "\n",
    "    # Re-train the Gaussian Process model with the new data\n",
    "    gp.fit(X, y)\n",
    "\n",
    "# Result: the optimal ingredient combination to minimize the overall score\n",
    "optimal_ingredients = X[np.argmin(y)]\n",
    "optimal_score = np.min(y)\n",
    "\n",
    "print(\"Optimal Ingredients:\", optimal_ingredients)\n",
    "print(\"Optimal Score:\", optimal_score)\n"
   ]
  },
  {
   "cell_type": "code",
   "execution_count": null,
   "id": "4122015d-ec1b-474e-8923-28ef24831fa1",
   "metadata": {},
   "outputs": [],
   "source": []
  },
  {
   "cell_type": "code",
   "execution_count": null,
   "id": "3b8e1540-6bde-45c9-86a7-c730b5476574",
   "metadata": {},
   "outputs": [],
   "source": []
  }
 ],
 "metadata": {
  "kernelspec": {
   "display_name": "Python 3 (ipykernel)",
   "language": "python",
   "name": "python3"
  },
  "language_info": {
   "codemirror_mode": {
    "name": "ipython",
    "version": 3
   },
   "file_extension": ".py",
   "mimetype": "text/x-python",
   "name": "python",
   "nbconvert_exporter": "python",
   "pygments_lexer": "ipython3",
   "version": "3.11.7"
  }
 },
 "nbformat": 4,
 "nbformat_minor": 5
}
