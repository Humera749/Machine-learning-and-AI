{
 "cells": [
  {
   "cell_type": "code",
   "execution_count": 2,
   "id": "12d4605a-98cd-4370-8433-d3dac2dd9804",
   "metadata": {},
   "outputs": [],
   "source": [
    "\n",
    "\n",
    "\n",
    "\n"
   ]
  },
  {
   "cell_type": "code",
   "execution_count": 3,
   "id": "c1c6377b-ee99-4724-a81c-781d9cc18052",
   "metadata": {},
   "outputs": [],
   "source": [
    "# Function 1"
   ]
  },
  {
   "cell_type": "code",
   "execution_count": 4,
   "id": "7041a1e2-a81c-4cd4-a1af-fa4c76720c85",
   "metadata": {},
   "outputs": [],
   "source": [
    "X = np.load(r'C:\\Users\\xdb13122\\Desktop\\ML Course\\capstone project\\initial_data\\function_1\\initial_inputs.npy')\n",
    "Y = np.load(r'C:\\Users\\xdb13122\\Desktop\\ML Course\\capstone project\\initial_data\\function_1\\initial_outputs.npy')"
   ]
  },
  {
   "cell_type": "code",
   "execution_count": 5,
   "id": "b08db49e-7469-441d-a45d-24c85b37e6e9",
   "metadata": {},
   "outputs": [
    {
     "data": {
      "text/plain": [
       "array([[0.31940389, 0.76295937],\n",
       "       [0.57432921, 0.8798981 ],\n",
       "       [0.73102363, 0.73299988],\n",
       "       [0.84035342, 0.26473161],\n",
       "       [0.65011406, 0.68152635],\n",
       "       [0.41043714, 0.1475543 ],\n",
       "       [0.31269116, 0.07872278],\n",
       "       [0.68341817, 0.86105746],\n",
       "       [0.08250725, 0.40348751],\n",
       "       [0.88388983, 0.58225397]])"
      ]
     },
     "execution_count": 5,
     "metadata": {},
     "output_type": "execute_result"
    }
   ],
   "source": [
    "X"
   ]
  },
  {
   "cell_type": "code",
   "execution_count": 6,
   "id": "816afd32-d729-4e26-936c-55617c3bd4b0",
   "metadata": {},
   "outputs": [],
   "source": [
    "new_row = np.array([[0.629717, 0.688972], [0.63066, 0.696161], [0.626262, 0.676767],[0.626262, 0.676767], [0.612958, 0.697751], [0.626262, 0.626262]])\n",
    "X = np.concatenate((X, new_row), axis=0)"
   ]
  },
  {
   "cell_type": "code",
   "execution_count": 7,
   "id": "3ecbe206-304e-4e62-8965-12c0f3f79fdd",
   "metadata": {},
   "outputs": [
    {
     "data": {
      "text/plain": [
       "array([[0.31940389, 0.76295937],\n",
       "       [0.57432921, 0.8798981 ],\n",
       "       [0.73102363, 0.73299988],\n",
       "       [0.84035342, 0.26473161],\n",
       "       [0.65011406, 0.68152635],\n",
       "       [0.41043714, 0.1475543 ],\n",
       "       [0.31269116, 0.07872278],\n",
       "       [0.68341817, 0.86105746],\n",
       "       [0.08250725, 0.40348751],\n",
       "       [0.88388983, 0.58225397],\n",
       "       [0.629717  , 0.688972  ],\n",
       "       [0.63066   , 0.696161  ],\n",
       "       [0.626262  , 0.676767  ],\n",
       "       [0.626262  , 0.676767  ],\n",
       "       [0.612958  , 0.697751  ],\n",
       "       [0.626262  , 0.626262  ]])"
      ]
     },
     "execution_count": 7,
     "metadata": {},
     "output_type": "execute_result"
    }
   ],
   "source": [
    "X"
   ]
  },
  {
   "cell_type": "code",
   "execution_count": 8,
   "id": "b3f46f80-76c1-40da-b43e-49c3ce353954",
   "metadata": {},
   "outputs": [
    {
     "data": {
      "text/plain": [
       "array([ 1.32267704e-079,  1.03307824e-046,  7.71087511e-016,\n",
       "        3.34177101e-124, -3.60606264e-003, -2.15924904e-054,\n",
       "       -2.08909327e-091,  2.53500115e-040,  3.60677119e-081,\n",
       "        6.22985647e-048])"
      ]
     },
     "execution_count": 8,
     "metadata": {},
     "output_type": "execute_result"
    }
   ],
   "source": [
    "Y"
   ]
  },
  {
   "cell_type": "code",
   "execution_count": 9,
   "id": "f5de7d86-0ddc-4653-9ab0-d3a0e6fd7448",
   "metadata": {},
   "outputs": [],
   "source": [
    "new_row = np.array([-0.004328531307999913, -0.0012061007115344272, -0.016762915003661404, -0.016762915003661404, -0.00048120942623194716, 1.9507835693048146])\n",
    "Y = np.concatenate((Y, new_row), axis=0)"
   ]
  },
  {
   "cell_type": "code",
   "execution_count": 10,
   "id": "7a212780-62d9-44d1-835a-920ab14c6637",
   "metadata": {},
   "outputs": [
    {
     "data": {
      "text/plain": [
       "array([ 1.32267704e-079,  1.03307824e-046,  7.71087511e-016,\n",
       "        3.34177101e-124, -3.60606264e-003, -2.15924904e-054,\n",
       "       -2.08909327e-091,  2.53500115e-040,  3.60677119e-081,\n",
       "        6.22985647e-048, -4.32853131e-003, -1.20610071e-003,\n",
       "       -1.67629150e-002, -1.67629150e-002, -4.81209426e-004,\n",
       "        1.95078357e+000])"
      ]
     },
     "execution_count": 10,
     "metadata": {},
     "output_type": "execute_result"
    }
   ],
   "source": [
    "Y"
   ]
  },
  {
   "cell_type": "code",
   "execution_count": 11,
   "id": "8e6432f3-6a49-4756-883e-9f942cf0de62",
   "metadata": {},
   "outputs": [
    {
     "data": {
      "text/plain": [
       "<matplotlib.colorbar.Colorbar at 0x20925658e90>"
      ]
     },
     "execution_count": 11,
     "metadata": {},
     "output_type": "execute_result"
    },
    {
     "data": {
      "image/png": "[encoded data removed]",
      "text/plain": [
       "<Figure size 800x500 with 2 Axes>"
      ]
     },
     "metadata": {},
     "output_type": "display_data"
    }
   ],
   "source": [
    "fig, ax = plt.subplots()\n",
    "fig.set_figheight(5)\n",
    "fig.set_figwidth(8)\n",
    "plt.scatter(X[:, 0], X[:, 1], c = Y)\n",
    "plt.colorbar()"
   ]
  },
  {
   "cell_type": "code",
   "execution_count": 12,
   "id": "7ad4eba3-3ca4-43a6-bc64-173a1ce60199",
   "metadata": {},
   "outputs": [
    {
     "name": "stdout",
     "output_type": "stream",
     "text": [
      "Next query Random:  [0.6264473802551447, 0.6175084640830891]\n",
      "Next query UCB:  [0.65 0.65]\n"
     ]
    }
   ],
   "source": [
    "# Random search around an area restricted around $x$ = [0.6262626262626263, 0.6767676767676768]\n",
    "next_query_x1 = np.random.normal(0.6262626262626263, scale = 0.01)\n",
    "next_query_x2 = np.random.normal(0.6262626767676768, scale = 0.01)\n",
    "print('Next query Random: ', [next_query_x1, next_query_x2])\n",
    "\n",
    "# Using a restricted UCB\n",
    "gpr = GaussianProcessRegressor()\n",
    "gpr.fit(X, Y)\n",
    "\n",
    "# to optimize the acquisition function, we will simply use gridsearch over a space of 10.000 gridpoints\n",
    "x1 = np.linspace(0.6, 0.65, 100)\n",
    "x2 = np.linspace(0.65, 0.69, 100)\n",
    "\n",
    "X_grid = []\n",
    "for i in range(len(x1)):\n",
    "    for j in range(len(x2)):\n",
    "        X_grid.append([x1[i], x2[j]])\n",
    "\n",
    "X_grid = np.array(X_grid)\n",
    "mean, std = gpr.predict(X_grid, return_std = True)\n",
    "ucb = mean + 1.96 * std\n",
    "\n",
    "idx_max = np.argmax(ucb)\n",
    "next_query = X_grid[idx_max]\n",
    "print('Next query UCB: ', next_query)"
   ]
  },
  {
   "cell_type": "code",
   "execution_count": 13,
   "id": "b582a0d5-659b-4b0e-adfb-da235a3f4be4",
   "metadata": {},
   "outputs": [],
   "source": [
    "# Function 2"
   ]
  },
  {
   "cell_type": "code",
   "execution_count": 14,
   "id": "baebc669-3ff5-4a3c-84b0-bf84ef8238ed",
   "metadata": {},
   "outputs": [],
   "source": [
    "X = np.load(r'C:\\Users\\xdb13122\\Desktop\\ML Course\\capstone project\\initial_data\\function_2\\initial_inputs.npy')\n",
    "Y = np.load(r'C:\\Users\\xdb13122\\Desktop\\ML Course\\capstone project\\initial_data\\function_2\\initial_outputs.npy')"
   ]
  },
  {
   "cell_type": "code",
   "execution_count": 15,
   "id": "a9b60ce2-5e3c-40d9-99b0-9e501c74eaa3",
   "metadata": {},
   "outputs": [
    {
     "data": {
      "text/plain": [
       "array([[0.66579958, 0.12396913],\n",
       "       [0.87779099, 0.7786275 ],\n",
       "       [0.14269907, 0.34900513],\n",
       "       [0.84527543, 0.71112027],\n",
       "       [0.45464714, 0.29045518],\n",
       "       [0.57771284, 0.77197318],\n",
       "       [0.43816606, 0.68501826],\n",
       "       [0.34174959, 0.02869772],\n",
       "       [0.33864816, 0.21386725],\n",
       "       [0.70263656, 0.9265642 ]])"
      ]
     },
     "execution_count": 15,
     "metadata": {},
     "output_type": "execute_result"
    }
   ],
   "source": [
    "X"
   ]
  },
  {
   "cell_type": "code",
   "execution_count": 16,
   "id": "e30b6837-cc5d-4d8c-8199-697558352fa4",
   "metadata": {},
   "outputs": [],
   "source": [
    "new_row = np.array([[0.581441, 0.793009], [0.582335, 0.772719], [0.594959, 0.762502],[0.594959, 0.762502], [0.568284, 0.760656], [0.57303, 0.75755]])\n",
    "X = np.concatenate((X, new_row), axis=0)"
   ]
  },
  {
   "cell_type": "code",
   "execution_count": 17,
   "id": "67657e1e-cd8a-4002-ac4f-ac252d73fe09",
   "metadata": {},
   "outputs": [
    {
     "data": {
      "text/plain": [
       "array([[0.66579958, 0.12396913],\n",
       "       [0.87779099, 0.7786275 ],\n",
       "       [0.14269907, 0.34900513],\n",
       "       [0.84527543, 0.71112027],\n",
       "       [0.45464714, 0.29045518],\n",
       "       [0.57771284, 0.77197318],\n",
       "       [0.43816606, 0.68501826],\n",
       "       [0.34174959, 0.02869772],\n",
       "       [0.33864816, 0.21386725],\n",
       "       [0.70263656, 0.9265642 ],\n",
       "       [0.581441  , 0.793009  ],\n",
       "       [0.582335  , 0.772719  ],\n",
       "       [0.594959  , 0.762502  ],\n",
       "       [0.594959  , 0.762502  ],\n",
       "       [0.568284  , 0.760656  ],\n",
       "       [0.57303   , 0.75755   ]])"
      ]
     },
     "execution_count": 17,
     "metadata": {},
     "output_type": "execute_result"
    }
   ],
   "source": [
    "X"
   ]
  },
  {
   "cell_type": "code",
   "execution_count": 18,
   "id": "63626a4e-27b2-46fc-bcd5-2c4da0e9b684",
   "metadata": {},
   "outputs": [
    {
     "data": {
      "text/plain": [
       "array([ 0.53899612,  0.42058624, -0.06562362,  0.29399291,  0.21496451,\n",
       "        0.02310555,  0.24461934,  0.03874902, -0.01385762,  0.61120522])"
      ]
     },
     "execution_count": 18,
     "metadata": {},
     "output_type": "execute_result"
    }
   ],
   "source": [
    "Y"
   ]
  },
  {
   "cell_type": "code",
   "execution_count": 19,
   "id": "3bf11e69-fbaf-4117-9d6e-92fa4aaeeea9",
   "metadata": {},
   "outputs": [],
   "source": [
    "new_row = np.array([0.12487407066209044, 0.03227754588908613, 0.05735913424776838, 0.03445339657998674, 0.1310947935880279, 0.16975558647238007])\n",
    "Y = np.concatenate((Y, new_row), axis=0)"
   ]
  },
  {
   "cell_type": "code",
   "execution_count": 20,
   "id": "eb1554d4-70e4-4fb9-bb84-17698c895a64",
   "metadata": {},
   "outputs": [
    {
     "data": {
      "text/plain": [
       "array([ 0.53899612,  0.42058624, -0.06562362,  0.29399291,  0.21496451,\n",
       "        0.02310555,  0.24461934,  0.03874902, -0.01385762,  0.61120522,\n",
       "        0.12487407,  0.03227755,  0.05735913,  0.0344534 ,  0.13109479,\n",
       "        0.16975559])"
      ]
     },
     "execution_count": 20,
     "metadata": {},
     "output_type": "execute_result"
    }
   ],
   "source": [
    "Y"
   ]
  },
  {
   "cell_type": "code",
   "execution_count": 21,
   "id": "19d2414e-5478-44e1-a6b4-d2e16cfb4c11",
   "metadata": {},
   "outputs": [
    {
     "data": {
      "text/plain": [
       "<matplotlib.colorbar.Colorbar at 0x20926104890>"
      ]
     },
     "execution_count": 21,
     "metadata": {},
     "output_type": "execute_result"
    },
    {
     "data": {
      "image/png": "[encoded data removed]",
      "text/plain": [
       "<Figure size 800x500 with 2 Axes>"
      ]
     },
     "metadata": {},
     "output_type": "display_data"
    }
   ],
   "source": [
    "fig, ax = plt.subplots()\n",
    "fig.set_figheight(5)\n",
    "fig.set_figwidth(8)\n",
    "plt.scatter(X[:, 0], X[:, 1], c = Y)\n",
    "plt.colorbar()"
   ]
  },
  {
   "cell_type": "code",
   "execution_count": 22,
   "id": "118c2d4c-7ff5-416e-9bb5-f43b826d00fe",
   "metadata": {
    "scrolled": true
   },
   "outputs": [
    {
     "name": "stdout",
     "output_type": "stream",
     "text": [
      "Next query Random:  [0.5922698583599411, 0.7740690563021175]\n",
      "Next query UCB:  [0.55 0.81]\n"
     ]
    }
   ],
   "source": [
    "# Random search around an area restricted around $x$ = [0.57771284, 0.77197318]\n",
    "next_query_x1 = np.random.normal(0.57771284, scale = 0.01)\n",
    "next_query_x2 = np.random.normal(0.77197318, scale = 0.01)\n",
    "print('Next query Random: ', [next_query_x1, next_query_x2])\n",
    "\n",
    "# Using a restricted UCB\n",
    "gpr = GaussianProcessRegressor()\n",
    "gpr.fit(X, Y)\n",
    "\n",
    "# to optimize the acquisition function, we will simply use gridsearch over a space of 10.000 gridpoints\n",
    "x1 = np.linspace(0.55, 0.62, 100)\n",
    "x2 = np.linspace(0.73, 0.81, 100)\n",
    "\n",
    "X_grid = []\n",
    "for i in range(len(x1)):\n",
    "    for j in range(len(x2)):\n",
    "        X_grid.append([x1[i], x2[j]])\n",
    "\n",
    "X_grid = np.array(X_grid)\n",
    "mean, std = gpr.predict(X_grid, return_std = True)\n",
    "ucb = mean + 1.96 * std\n",
    "\n",
    "idx_max = np.argmax(ucb)\n",
    "next_query = X_grid[idx_max]\n",
    "print('Next query UCB: ', next_query)"
   ]
  },
  {
   "cell_type": "code",
   "execution_count": 23,
   "id": "28d63ae7-89b0-441a-b6ab-771aca56e5ef",
   "metadata": {},
   "outputs": [
    {
     "data": {
      "image/png": "[encoded data removed]",
      "text/plain": [
       "<Figure size 1000x700 with 1 Axes>"
      ]
     },
     "metadata": {},
     "output_type": "display_data"
    }
   ],
   "source": [
    "import numpy as np\n",
    "import matplotlib.pyplot as plt\n",
    "from sklearn.linear_model import LinearRegression\n",
    "from mpl_toolkits.mplot3d import Axes3D\n",
    "\n",
    "# Sample data (replace with your actual data)\n",
    "X = X\n",
    "y = Y\n",
    "\n",
    "# Fit the model\n",
    "model = LinearRegression()\n",
    "model.fit(X, y)\n",
    "\n",
    "# Generate predictions\n",
    "predictions = model.predict(X)\n",
    "\n",
    "# Create a mesh grid for the two features to plot the regression plane\n",
    "x0_range = np.linspace(X[:, 0].min(), X[:, 0].max(), 10)\n",
    "x1_range = np.linspace(X[:, 1].min(), X[:, 1].max(), 10)\n",
    "x0_grid, x1_grid = np.meshgrid(x0_range, x1_range)\n",
    "y_grid = model.intercept_ + model.coef_[0] * x0_grid + model.coef_[1] * x1_grid\n",
    "\n",
    "# Plotting\n",
    "fig = plt.figure(figsize=(10, 7))\n",
    "ax = fig.add_subplot(111, projection='3d')\n",
    "\n",
    "# Plot the original data points\n",
    "ax.scatter(X[:, 0], X[:, 1], y, color='blue', label='Actual data')\n",
    "\n",
    "# Plot the regression plane\n",
    "ax.plot_surface(x0_grid, x1_grid, y_grid, color='orange', alpha=0.5, rstride=100, cstride=100)\n",
    "\n",
    "# Label axes\n",
    "ax.set_xlabel(\"Feature 1\")\n",
    "ax.set_ylabel(\"Feature 2\")\n",
    "ax.set_zlabel(\"Output\")\n",
    "ax.set_title(\"Linear Regression Model Fit\")\n",
    "\n",
    "# Show legend and plot\n",
    "ax.legend()\n",
    "plt.show()"
   ]
  },
  {
   "cell_type": "code",
   "execution_count": 24,
   "id": "c1a75343-73b6-4732-bd99-8af90d1e15cb",
   "metadata": {},
   "outputs": [
    {
     "name": "stdout",
     "output_type": "stream",
     "text": [
      "Best parameters: x1 = 0.8777909889953304, x2 = 0.028697719822277867\n",
      "Maximum predicted output: 0.5937170839081809\n"
     ]
    }
   ],
   "source": [
    "import numpy as np\n",
    "from sklearn.linear_model import LinearRegression\n",
    "from skopt import gp_minimize\n",
    "from skopt.space import Real\n",
    "from skopt.utils import use_named_args\n",
    "\n",
    "# Sample data (replace with your actual data)\n",
    "X = X\n",
    "y = Y\n",
    "\n",
    "# Fit the linear regression model\n",
    "model = LinearRegression()\n",
    "model.fit(X, y)\n",
    "\n",
    "# Define the search space for the two input features\n",
    "space = [\n",
    "    Real(X[:, 0].min(), X[:, 0].max(), name=\"x1\"),\n",
    "    Real(X[:, 1].min(), X[:, 1].max(), name=\"x2\")\n",
    "]\n",
    "\n",
    "# Define the objective function to maximize the model's prediction\n",
    "@use_named_args(space)\n",
    "def objective(**params):\n",
    "    # Convert the dictionary of params to a 2D array for prediction\n",
    "    x_pred = np.array([[params[\"x1\"], params[\"x2\"]]])\n",
    "    # We return the negative prediction to maximize, as `gp_minimize` minimizes the function\n",
    "    return -model.predict(x_pred)[0]\n",
    "\n",
    "# Run Bayesian Optimization\n",
    "result = gp_minimize(objective, space, n_calls=30, random_state=0)\n",
    "\n",
    "# Best parameters found\n",
    "best_x1, best_x2 = result.x\n",
    "max_prediction = -result.fun\n",
    "\n",
    "print(f\"Best parameters: x1 = {best_x1}, x2 = {best_x2}\")\n",
    "print(f\"Maximum predicted output: {max_prediction}\")"
   ]
  },
  {
   "cell_type": "code",
   "execution_count": 22,
   "id": "9f225a9b-47b6-4007-a366-6fd6dc219774",
   "metadata": {},
   "outputs": [],
   "source": [
    "# Function 3"
   ]
  },
  {
   "cell_type": "code",
   "execution_count": 23,
   "id": "faeeb87d-7be8-4077-837e-67f1a9f0ee1a",
   "metadata": {},
   "outputs": [],
   "source": [
    "X = np.load(r'C:\\Users\\xdb13122\\Desktop\\ML Course\\capstone project\\initial_data\\function_3\\initial_inputs.npy')\n",
    "Y = np.load(r'C:\\Users\\xdb13122\\Desktop\\ML Course\\capstone project\\initial_data\\function_3\\initial_outputs.npy')"
   ]
  },
  {
   "cell_type": "code",
   "execution_count": 24,
   "id": "6cf02f4b-fbe5-4d65-9cb6-e2e44308868d",
   "metadata": {},
   "outputs": [
    {
     "data": {
      "text/plain": [
       "array([[0.17152521, 0.34391687, 0.2487372 ],\n",
       "       [0.24211446, 0.64407427, 0.27243281],\n",
       "       [0.53490572, 0.39850092, 0.17338873],\n",
       "       [0.49258141, 0.61159319, 0.34017639],\n",
       "       [0.13462167, 0.21991724, 0.45820622],\n",
       "       [0.34552327, 0.94135983, 0.26936348],\n",
       "       [0.15183663, 0.43999062, 0.99088187],\n",
       "       [0.64550284, 0.39714294, 0.91977134],\n",
       "       [0.74691195, 0.28419631, 0.22629985],\n",
       "       [0.17047699, 0.6970324 , 0.14916943],\n",
       "       [0.22054934, 0.29782524, 0.34355534],\n",
       "       [0.66601366, 0.67198515, 0.2462953 ],\n",
       "       [0.04680895, 0.23136024, 0.77061759],\n",
       "       [0.60009728, 0.72513573, 0.06608864],\n",
       "       [0.96599485, 0.86111969, 0.56682913]])"
      ]
     },
     "execution_count": 24,
     "metadata": {},
     "output_type": "execute_result"
    }
   ],
   "source": [
    "X"
   ]
  },
  {
   "cell_type": "code",
   "execution_count": 25,
   "id": "ce1e0a30-2537-4563-b9c5-a768b5c14862",
   "metadata": {},
   "outputs": [],
   "source": [
    "new_row = np.array([[0.864411, 0.276113, 0.874451], [0.791462, 0.581073, 0.615003], [0.699532, 0.529816, 0.4750162],[0.699532, 0.529816, 0.475016], [0.788473, 0.982177, 0.253373], [0.228546, 0.599028, 0.31107]])\n",
    "X = np.concatenate((X, new_row), axis=0)"
   ]
  },
  {
   "cell_type": "code",
   "execution_count": 26,
   "id": "0ebd4d09-135a-4c4e-bdaa-265b014e12ad",
   "metadata": {},
   "outputs": [
    {
     "data": {
      "text/plain": [
       "array([[0.17152521, 0.34391687, 0.2487372 ],\n",
       "       [0.24211446, 0.64407427, 0.27243281],\n",
       "       [0.53490572, 0.39850092, 0.17338873],\n",
       "       [0.49258141, 0.61159319, 0.34017639],\n",
       "       [0.13462167, 0.21991724, 0.45820622],\n",
       "       [0.34552327, 0.94135983, 0.26936348],\n",
       "       [0.15183663, 0.43999062, 0.99088187],\n",
       "       [0.64550284, 0.39714294, 0.91977134],\n",
       "       [0.74691195, 0.28419631, 0.22629985],\n",
       "       [0.17047699, 0.6970324 , 0.14916943],\n",
       "       [0.22054934, 0.29782524, 0.34355534],\n",
       "       [0.66601366, 0.67198515, 0.2462953 ],\n",
       "       [0.04680895, 0.23136024, 0.77061759],\n",
       "       [0.60009728, 0.72513573, 0.06608864],\n",
       "       [0.96599485, 0.86111969, 0.56682913],\n",
       "       [0.864411  , 0.276113  , 0.874451  ],\n",
       "       [0.791462  , 0.581073  , 0.615003  ],\n",
       "       [0.699532  , 0.529816  , 0.4750162 ],\n",
       "       [0.699532  , 0.529816  , 0.475016  ],\n",
       "       [0.788473  , 0.982177  , 0.253373  ],\n",
       "       [0.228546  , 0.599028  , 0.31107   ]])"
      ]
     },
     "execution_count": 26,
     "metadata": {},
     "output_type": "execute_result"
    }
   ],
   "source": [
    "X"
   ]
  },
  {
   "cell_type": "code",
   "execution_count": 27,
   "id": "8d23ae54-4ee8-472d-972a-90bc64b520e7",
   "metadata": {},
   "outputs": [
    {
     "data": {
      "text/plain": [
       "array([-0.1121222 , -0.08796286, -0.11141465, -0.03483531, -0.04800758,\n",
       "       -0.11062091, -0.39892551, -0.11386851, -0.13146061, -0.09418956,\n",
       "       -0.04694741, -0.10596504, -0.11804826, -0.03637783, -0.05675837])"
      ]
     },
     "execution_count": 27,
     "metadata": {},
     "output_type": "execute_result"
    }
   ],
   "source": [
    "Y"
   ]
  },
  {
   "cell_type": "code",
   "execution_count": 28,
   "id": "acaed68e-edf1-4d93-8579-fee999401fad",
   "metadata": {},
   "outputs": [],
   "source": [
    "new_row = np.array([-0.05412569940370686, -0.06319905645357159, -0.0005480369123123483, -0.0005480369123123483, -0.16369976998517352, -0.07402727571803658])\n",
    "Y = np.concatenate((Y, new_row), axis=0)"
   ]
  },
  {
   "cell_type": "code",
   "execution_count": 29,
   "id": "49000ed1-8fd8-4e69-b84b-9c4d261ac5f7",
   "metadata": {},
   "outputs": [
    {
     "data": {
      "text/plain": [
       "array([-0.1121222 , -0.08796286, -0.11141465, -0.03483531, -0.04800758,\n",
       "       -0.11062091, -0.39892551, -0.11386851, -0.13146061, -0.09418956,\n",
       "       -0.04694741, -0.10596504, -0.11804826, -0.03637783, -0.05675837,\n",
       "       -0.0541257 , -0.06319906, -0.00054804, -0.00054804, -0.16369977,\n",
       "       -0.07402728])"
      ]
     },
     "execution_count": 29,
     "metadata": {},
     "output_type": "execute_result"
    }
   ],
   "source": [
    "Y"
   ]
  },
  {
   "cell_type": "code",
   "execution_count": 30,
   "id": "615bb97d-c152-4a4c-a3c5-386ca0d063e4",
   "metadata": {},
   "outputs": [
    {
     "name": "stdout",
     "output_type": "stream",
     "text": [
      "[0.20549223 0.46174651 0.74132133]\n"
     ]
    }
   ],
   "source": [
    "next_query = np.random.uniform(size = 3)\n",
    "print(next_query)"
   ]
  },
  {
   "cell_type": "code",
   "execution_count": 31,
   "id": "e14ff23e-f5f2-42fd-9716-c2d8caf8f052",
   "metadata": {},
   "outputs": [
    {
     "name": "stdout",
     "output_type": "stream",
     "text": [
      "[0.65656566 0.         0.82828283]\n"
     ]
    }
   ],
   "source": [
    "gpr = GaussianProcessRegressor()\n",
    "gpr.fit(X, Y)\n",
    "\n",
    "# to optimize the acquisition function, we will simply use gridsearch over a space of 10.000 gridpoints\n",
    "x1 = np.linspace(0, 1, 100)\n",
    "x2 = np.linspace(0, 1, 100)\n",
    "x3 = np.linspace(0, 1, 100)\n",
    "X_grid = []\n",
    "for i in range(len(x1)):\n",
    "    for j in range(len(x2)):\n",
    "        for k in range(len(x2)):\n",
    "            X_grid.append([x1[i], x2[j], x3[k]])\n",
    "\n",
    "X_grid = np.array(X_grid)\n",
    "mean, std = gpr.predict(X_grid, return_std = True)\n",
    "ucb = mean + 1.96 * std\n",
    "\n",
    "idx_max = np.argmax(ucb)\n",
    "next_query = X_grid[idx_max]\n",
    "print(next_query)"
   ]
  },
  {
   "cell_type": "code",
   "execution_count": 32,
   "id": "fd40c6d9-8429-40cd-a483-4e4aec30c3d0",
   "metadata": {},
   "outputs": [],
   "source": [
    "# Function 4"
   ]
  },
  {
   "cell_type": "code",
   "execution_count": 33,
   "id": "6774c7a0-be82-4362-a9fd-d0ad7c189dea",
   "metadata": {},
   "outputs": [],
   "source": [
    "X = np.load(r'C:\\Users\\xdb13122\\Desktop\\ML Course\\capstone project\\initial_data\\function_4\\initial_inputs.npy')\n",
    "Y = np.load(r'C:\\Users\\xdb13122\\Desktop\\ML Course\\capstone project\\initial_data\\function_4\\initial_outputs.npy')"
   ]
  },
  {
   "cell_type": "code",
   "execution_count": 34,
   "id": "4f0053c7-4973-4ec1-8988-4147ab911871",
   "metadata": {},
   "outputs": [
    {
     "data": {
      "text/plain": [
       "array([[0.89698105, 0.72562797, 0.17540431, 0.70169437],\n",
       "       [0.8893564 , 0.49958786, 0.53926886, 0.50878344],\n",
       "       [0.25094624, 0.03369313, 0.14538002, 0.49493242],\n",
       "       [0.34696206, 0.0062504 , 0.76056361, 0.61302356],\n",
       "       [0.12487118, 0.12977019, 0.38440048, 0.2870761 ],\n",
       "       [0.80130271, 0.50023109, 0.70664456, 0.19510284],\n",
       "       [0.24770826, 0.06044543, 0.04218635, 0.44132425],\n",
       "       [0.74670224, 0.7570915 , 0.36935306, 0.20656628],\n",
       "       [0.40066503, 0.07257425, 0.88676825, 0.24384229],\n",
       "       [0.6260706 , 0.58675126, 0.43880578, 0.77885769],\n",
       "       [0.95713529, 0.59764438, 0.76611385, 0.77620991],\n",
       "       [0.73281243, 0.14524998, 0.47681272, 0.13336573],\n",
       "       [0.65511548, 0.07239183, 0.68715175, 0.08151656],\n",
       "       [0.21973443, 0.83203134, 0.48286416, 0.08256923],\n",
       "       [0.48859419, 0.2119651 , 0.93917791, 0.37619173],\n",
       "       [0.16713049, 0.87655456, 0.21723954, 0.95980098],\n",
       "       [0.21691119, 0.16608583, 0.24137226, 0.77006248],\n",
       "       [0.38748784, 0.80453226, 0.75179548, 0.72382744],\n",
       "       [0.98562189, 0.66693268, 0.15678328, 0.8565348 ],\n",
       "       [0.03782483, 0.66485335, 0.16198218, 0.25392378],\n",
       "       [0.68348638, 0.9027701 , 0.33541983, 0.99948256],\n",
       "       [0.17034731, 0.75695908, 0.27652049, 0.5312315 ],\n",
       "       [0.85965692, 0.91959232, 0.20613873, 0.09779683],\n",
       "       [0.28213837, 0.50598691, 0.53053084, 0.09630162],\n",
       "       [0.32607578, 0.4723669 , 0.453192  , 0.10588734],\n",
       "       [0.94838936, 0.89451301, 0.85163782, 0.55219629],\n",
       "       [0.66495539, 0.04656628, 0.11677747, 0.79371778],\n",
       "       [0.57776561, 0.42877174, 0.42582587, 0.24900741],\n",
       "       [0.73861301, 0.48210263, 0.70936644, 0.50397001],\n",
       "       [0.8548108 , 0.49396462, 0.73530997, 0.80809201]])"
      ]
     },
     "execution_count": 34,
     "metadata": {},
     "output_type": "execute_result"
    }
   ],
   "source": [
    "X"
   ]
  },
  {
   "cell_type": "code",
   "execution_count": 35,
   "id": "1a5616e9-a7aa-486c-b833-a9fb5be5a150",
   "metadata": {},
   "outputs": [],
   "source": [
    "new_row = np.array([[0.029165, 0.887765, 0.395183, 0.91517], [0.136121, 0.20395 , 0.536603, 0.787886], [0.454442, 0.897027, 0.190592, 0.764176],[0.454442, 0.897027, 0.190592, 0.764176], [0.461839, 0.761866, 0.320921, 0.771822], [0.88225 , 0.88213 , 0.459067, 0.123382]])\n",
    "X = np.concatenate((X, new_row), axis=0)"
   ]
  },
  {
   "cell_type": "code",
   "execution_count": 36,
   "id": "8aba5c37-114c-438d-93d5-f4d766ee268d",
   "metadata": {},
   "outputs": [
    {
     "data": {
      "text/plain": [
       "array([[0.89698105, 0.72562797, 0.17540431, 0.70169437],\n",
       "       [0.8893564 , 0.49958786, 0.53926886, 0.50878344],\n",
       "       [0.25094624, 0.03369313, 0.14538002, 0.49493242],\n",
       "       [0.34696206, 0.0062504 , 0.76056361, 0.61302356],\n",
       "       [0.12487118, 0.12977019, 0.38440048, 0.2870761 ],\n",
       "       [0.80130271, 0.50023109, 0.70664456, 0.19510284],\n",
       "       [0.24770826, 0.06044543, 0.04218635, 0.44132425],\n",
       "       [0.74670224, 0.7570915 , 0.36935306, 0.20656628],\n",
       "       [0.40066503, 0.07257425, 0.88676825, 0.24384229],\n",
       "       [0.6260706 , 0.58675126, 0.43880578, 0.77885769],\n",
       "       [0.95713529, 0.59764438, 0.76611385, 0.77620991],\n",
       "       [0.73281243, 0.14524998, 0.47681272, 0.13336573],\n",
       "       [0.65511548, 0.07239183, 0.68715175, 0.08151656],\n",
       "       [0.21973443, 0.83203134, 0.48286416, 0.08256923],\n",
       "       [0.48859419, 0.2119651 , 0.93917791, 0.37619173],\n",
       "       [0.16713049, 0.87655456, 0.21723954, 0.95980098],\n",
       "       [0.21691119, 0.16608583, 0.24137226, 0.77006248],\n",
       "       [0.38748784, 0.80453226, 0.75179548, 0.72382744],\n",
       "       [0.98562189, 0.66693268, 0.15678328, 0.8565348 ],\n",
       "       [0.03782483, 0.66485335, 0.16198218, 0.25392378],\n",
       "       [0.68348638, 0.9027701 , 0.33541983, 0.99948256],\n",
       "       [0.17034731, 0.75695908, 0.27652049, 0.5312315 ],\n",
       "       [0.85965692, 0.91959232, 0.20613873, 0.09779683],\n",
       "       [0.28213837, 0.50598691, 0.53053084, 0.09630162],\n",
       "       [0.32607578, 0.4723669 , 0.453192  , 0.10588734],\n",
       "       [0.94838936, 0.89451301, 0.85163782, 0.55219629],\n",
       "       [0.66495539, 0.04656628, 0.11677747, 0.79371778],\n",
       "       [0.57776561, 0.42877174, 0.42582587, 0.24900741],\n",
       "       [0.73861301, 0.48210263, 0.70936644, 0.50397001],\n",
       "       [0.8548108 , 0.49396462, 0.73530997, 0.80809201],\n",
       "       [0.029165  , 0.887765  , 0.395183  , 0.91517   ],\n",
       "       [0.136121  , 0.20395   , 0.536603  , 0.787886  ],\n",
       "       [0.454442  , 0.897027  , 0.190592  , 0.764176  ],\n",
       "       [0.454442  , 0.897027  , 0.190592  , 0.764176  ],\n",
       "       [0.461839  , 0.761866  , 0.320921  , 0.771822  ],\n",
       "       [0.88225   , 0.88213   , 0.459067  , 0.123382  ]])"
      ]
     },
     "execution_count": 36,
     "metadata": {},
     "output_type": "execute_result"
    }
   ],
   "source": [
    "X"
   ]
  },
  {
   "cell_type": "code",
   "execution_count": 37,
   "id": "299f5630-4dec-43c8-b27b-7f081693a84f",
   "metadata": {},
   "outputs": [
    {
     "data": {
      "text/plain": [
       "array([-22.10828779, -14.60139663, -11.69993246, -16.05376511,\n",
       "       -10.06963343, -15.48708254, -12.68168498, -16.02639977,\n",
       "       -17.04923465, -12.74176599, -27.31639636, -13.52764887,\n",
       "       -16.6791152 , -16.50715856, -17.81799934, -26.56182083,\n",
       "       -12.75832422, -19.44155762, -28.90327367, -13.70274694,\n",
       "       -29.4270914 , -11.56574199, -26.85778644,  -7.96677535,\n",
       "        -6.70208925, -32.62566022, -19.98949793,  -4.02554228,\n",
       "       -13.12278233, -23.1394284 ])"
      ]
     },
     "execution_count": 37,
     "metadata": {},
     "output_type": "execute_result"
    }
   ],
   "source": [
    "Y"
   ]
  },
  {
   "cell_type": "code",
   "execution_count": 38,
   "id": "51896371-8820-439b-a124-b3ba1fc3a5f4",
   "metadata": {},
   "outputs": [],
   "source": [
    "new_row = np.array([-27.702167593339002,  -14.106308541263171, -20.092643282061697, -20.092643282061697, -15.125127865230699, -23.97060177721391])\n",
    "Y = np.concatenate((Y, new_row), axis=0)"
   ]
  },
  {
   "cell_type": "code",
   "execution_count": 39,
   "id": "cdc794af-f479-4c5b-8178-496adc9bd5ce",
   "metadata": {},
   "outputs": [
    {
     "data": {
      "text/plain": [
       "array([-22.10828779, -14.60139663, -11.69993246, -16.05376511,\n",
       "       -10.06963343, -15.48708254, -12.68168498, -16.02639977,\n",
       "       -17.04923465, -12.74176599, -27.31639636, -13.52764887,\n",
       "       -16.6791152 , -16.50715856, -17.81799934, -26.56182083,\n",
       "       -12.75832422, -19.44155762, -28.90327367, -13.70274694,\n",
       "       -29.4270914 , -11.56574199, -26.85778644,  -7.96677535,\n",
       "        -6.70208925, -32.62566022, -19.98949793,  -4.02554228,\n",
       "       -13.12278233, -23.1394284 , -27.70216759, -14.10630854,\n",
       "       -20.09264328, -20.09264328, -15.12512787, -23.97060178])"
      ]
     },
     "execution_count": 39,
     "metadata": {},
     "output_type": "execute_result"
    }
   ],
   "source": [
    "Y"
   ]
  },
  {
   "cell_type": "code",
   "execution_count": 40,
   "id": "1b883700-323d-4da1-a475-8184f5f9e0ba",
   "metadata": {},
   "outputs": [
    {
     "name": "stdout",
     "output_type": "stream",
     "text": [
      "[0.67831882 0.81097411 0.1178902  0.58455994]\n"
     ]
    }
   ],
   "source": [
    "next_query = np.random.uniform(size = 4)\n",
    "print(next_query)"
   ]
  },
  {
   "cell_type": "code",
   "execution_count": 41,
   "id": "05355299-6991-430e-9d53-5dfbd8adb404",
   "metadata": {},
   "outputs": [],
   "source": [
    "# Function 5"
   ]
  },
  {
   "cell_type": "code",
   "execution_count": 42,
   "id": "9f4f1823-1b76-4e2e-9fb0-67800c73e3c2",
   "metadata": {},
   "outputs": [],
   "source": [
    "X = np.load(r'C:\\Users\\xdb13122\\Desktop\\ML Course\\capstone project\\initial_data\\function_5\\initial_inputs.npy')\n",
    "Y = np.load(r'C:\\Users\\xdb13122\\Desktop\\ML Course\\capstone project\\initial_data\\function_5\\initial_outputs.npy')"
   ]
  },
  {
   "cell_type": "code",
   "execution_count": 43,
   "id": "b09682fb-a9c6-4caa-9be1-92c99fa6896a",
   "metadata": {},
   "outputs": [
    {
     "data": {
      "text/plain": [
       "array([[0.19144708, 0.03819337, 0.60741781, 0.41458414],\n",
       "       [0.75865295, 0.53651774, 0.65600038, 0.36034155],\n",
       "       [0.43834987, 0.8043397 , 0.21024527, 0.15129482],\n",
       "       [0.70605083, 0.53419196, 0.26424335, 0.48208755],\n",
       "       [0.83647799, 0.19360965, 0.6638927 , 0.78564888],\n",
       "       [0.68343225, 0.11866264, 0.82904591, 0.56757661],\n",
       "       [0.55362148, 0.66734998, 0.32380582, 0.81486975],\n",
       "       [0.35235627, 0.32224153, 0.11697937, 0.47311252],\n",
       "       [0.15378571, 0.72938169, 0.42259844, 0.44307417],\n",
       "       [0.46344227, 0.63002451, 0.10790646, 0.9576439 ],\n",
       "       [0.67749115, 0.35850951, 0.47959222, 0.07288048],\n",
       "       [0.58397341, 0.14724265, 0.34809746, 0.42861465],\n",
       "       [0.30688872, 0.31687813, 0.62263448, 0.09539906],\n",
       "       [0.51114177, 0.817957  , 0.72871042, 0.11235362],\n",
       "       [0.43893338, 0.77409176, 0.37816709, 0.93369621],\n",
       "       [0.22418902, 0.84648049, 0.87948418, 0.87851568],\n",
       "       [0.72526172, 0.47987049, 0.08894684, 0.75976022],\n",
       "       [0.35548161, 0.63961937, 0.41761768, 0.12260384],\n",
       "       [0.11987923, 0.86254031, 0.64333133, 0.84980383],\n",
       "       [0.12688467, 0.15342962, 0.77016219, 0.19051811]])"
      ]
     },
     "execution_count": 43,
     "metadata": {},
     "output_type": "execute_result"
    }
   ],
   "source": [
    "X"
   ]
  },
  {
   "cell_type": "code",
   "execution_count": 44,
   "id": "d07dd5e4-6b88-43f6-81c7-9197dc1e1b12",
   "metadata": {},
   "outputs": [],
   "source": [
    "new_row = np.array([[0.448392, 0.632874, 0.38062 , 0.934074], [0.315536, 0.434404, 0.14856 , 0.861864], [0.072015, 0.800168, 0.449147, 0.295455],[0.072015, 0.800168, 0.449147, 0.295455], [0.191994, 0.496494, 0.225047, 0.087347], [0.375185, 0.845543, 0.917627, 0.262982]])\n",
    "X = np.concatenate((X, new_row), axis=0)"
   ]
  },
  {
   "cell_type": "code",
   "execution_count": 45,
   "id": "9289f14e-2c34-4145-ac10-942271aae158",
   "metadata": {},
   "outputs": [
    {
     "data": {
      "text/plain": [
       "array([[0.19144708, 0.03819337, 0.60741781, 0.41458414],\n",
       "       [0.75865295, 0.53651774, 0.65600038, 0.36034155],\n",
       "       [0.43834987, 0.8043397 , 0.21024527, 0.15129482],\n",
       "       [0.70605083, 0.53419196, 0.26424335, 0.48208755],\n",
       "       [0.83647799, 0.19360965, 0.6638927 , 0.78564888],\n",
       "       [0.68343225, 0.11866264, 0.82904591, 0.56757661],\n",
       "       [0.55362148, 0.66734998, 0.32380582, 0.81486975],\n",
       "       [0.35235627, 0.32224153, 0.11697937, 0.47311252],\n",
       "       [0.15378571, 0.72938169, 0.42259844, 0.44307417],\n",
       "       [0.46344227, 0.63002451, 0.10790646, 0.9576439 ],\n",
       "       [0.67749115, 0.35850951, 0.47959222, 0.07288048],\n",
       "       [0.58397341, 0.14724265, 0.34809746, 0.42861465],\n",
       "       [0.30688872, 0.31687813, 0.62263448, 0.09539906],\n",
       "       [0.51114177, 0.817957  , 0.72871042, 0.11235362],\n",
       "       [0.43893338, 0.77409176, 0.37816709, 0.93369621],\n",
       "       [0.22418902, 0.84648049, 0.87948418, 0.87851568],\n",
       "       [0.72526172, 0.47987049, 0.08894684, 0.75976022],\n",
       "       [0.35548161, 0.63961937, 0.41761768, 0.12260384],\n",
       "       [0.11987923, 0.86254031, 0.64333133, 0.84980383],\n",
       "       [0.12688467, 0.15342962, 0.77016219, 0.19051811],\n",
       "       [0.448392  , 0.632874  , 0.38062   , 0.934074  ],\n",
       "       [0.315536  , 0.434404  , 0.14856   , 0.861864  ],\n",
       "       [0.072015  , 0.800168  , 0.449147  , 0.295455  ],\n",
       "       [0.072015  , 0.800168  , 0.449147  , 0.295455  ],\n",
       "       [0.191994  , 0.496494  , 0.225047  , 0.087347  ],\n",
       "       [0.375185  , 0.845543  , 0.917627  , 0.262982  ]])"
      ]
     },
     "execution_count": 45,
     "metadata": {},
     "output_type": "execute_result"
    }
   ],
   "source": [
    "X"
   ]
  },
  {
   "cell_type": "code",
   "execution_count": 46,
   "id": "fa34df48-e93d-4b99-90ea-4fdf9ec8fb82",
   "metadata": {},
   "outputs": [
    {
     "data": {
      "text/plain": [
       "array([6.44434399e+01, 1.83013796e+01, 1.12939795e-01, 4.21089813e+00,\n",
       "       2.58370525e+02, 7.84343889e+01, 5.75715369e+01, 1.09571876e+02,\n",
       "       8.84799176e+00, 2.33223610e+02, 2.44230883e+01, 6.44201468e+01,\n",
       "       6.34767158e+01, 7.97291299e+01, 3.55806818e+02, 1.08885962e+03,\n",
       "       2.88667516e+01, 4.51815703e+01, 4.31612757e+02, 9.97233189e+00])"
      ]
     },
     "execution_count": 46,
     "metadata": {},
     "output_type": "execute_result"
    }
   ],
   "source": [
    "Y"
   ]
  },
  {
   "cell_type": "code",
   "execution_count": 47,
   "id": "060012a3-c940-4add-9f3a-b226d96bf07a",
   "metadata": {},
   "outputs": [],
   "source": [
    "new_row = np.array([188.5886984822764,  11.631891151528832, 0.0940828615857796, 0.0940828615857796, 117.77257910977474, 423.969950562316])\n",
    "Y = np.concatenate((Y, new_row), axis=0)"
   ]
  },
  {
   "cell_type": "code",
   "execution_count": 48,
   "id": "3bfd5b6d-eb61-462f-a54a-9fc094f99b64",
   "metadata": {},
   "outputs": [
    {
     "data": {
      "text/plain": [
       "array([6.44434399e+01, 1.83013796e+01, 1.12939795e-01, 4.21089813e+00,\n",
       "       2.58370525e+02, 7.84343889e+01, 5.75715369e+01, 1.09571876e+02,\n",
       "       8.84799176e+00, 2.33223610e+02, 2.44230883e+01, 6.44201468e+01,\n",
       "       6.34767158e+01, 7.97291299e+01, 3.55806818e+02, 1.08885962e+03,\n",
       "       2.88667516e+01, 4.51815703e+01, 4.31612757e+02, 9.97233189e+00,\n",
       "       1.88588698e+02, 1.16318912e+01, 9.40828616e-02, 9.40828616e-02,\n",
       "       1.17772579e+02, 4.23969951e+02])"
      ]
     },
     "execution_count": 48,
     "metadata": {},
     "output_type": "execute_result"
    }
   ],
   "source": [
    "Y"
   ]
  },
  {
   "cell_type": "code",
   "execution_count": 49,
   "id": "990b4e25-1a36-4e43-b604-d82b79cc87aa",
   "metadata": {},
   "outputs": [
    {
     "name": "stdout",
     "output_type": "stream",
     "text": [
      "[0.3220648  0.35871319 0.55888743 0.95210475]\n"
     ]
    }
   ],
   "source": [
    "next_query = np.random.uniform(size = 4)\n",
    "print(next_query)"
   ]
  },
  {
   "cell_type": "code",
   "execution_count": 50,
   "id": "1b49da4f-6d2f-4ffc-bebd-ec168838305c",
   "metadata": {},
   "outputs": [],
   "source": [
    "# Function 6"
   ]
  },
  {
   "cell_type": "code",
   "execution_count": 51,
   "id": "06c973f7-c67a-4abb-b16f-6d82b5a01a54",
   "metadata": {},
   "outputs": [],
   "source": [
    "X = np.load(r'C:\\Users\\xdb13122\\Desktop\\ML Course\\capstone project\\initial_data\\function_6\\initial_inputs.npy')\n",
    "Y = np.load(r'C:\\Users\\xdb13122\\Desktop\\ML Course\\capstone project\\initial_data\\function_6\\initial_outputs.npy')"
   ]
  },
  {
   "cell_type": "code",
   "execution_count": 52,
   "id": "44c2aa1a-00df-4375-a26f-19f9200c280a",
   "metadata": {},
   "outputs": [
    {
     "data": {
      "text/plain": [
       "array([[0.7281861 , 0.15469257, 0.73255167, 0.69399651, 0.05640131],\n",
       "       [0.24238435, 0.84409997, 0.5778091 , 0.67902128, 0.50195289],\n",
       "       [0.72952261, 0.7481062 , 0.67977464, 0.35655228, 0.67105368],\n",
       "       [0.77062024, 0.11440374, 0.04677993, 0.64832428, 0.27354905],\n",
       "       [0.6188123 , 0.33180214, 0.18728787, 0.75623847, 0.3288348 ],\n",
       "       [0.78495809, 0.91068235, 0.7081201 , 0.95922543, 0.0049115 ],\n",
       "       [0.14511079, 0.8966846 , 0.89632223, 0.72627154, 0.23627199],\n",
       "       [0.94506907, 0.28845905, 0.97880576, 0.96165559, 0.59801594],\n",
       "       [0.12572016, 0.86272469, 0.02854433, 0.24660527, 0.75120624],\n",
       "       [0.75759436, 0.35583141, 0.0165229 , 0.4342072 , 0.11243304],\n",
       "       [0.5367969 , 0.30878091, 0.41187929, 0.38822518, 0.5225283 ],\n",
       "       [0.95773967, 0.23566857, 0.09914585, 0.15680593, 0.07131737],\n",
       "       [0.6293079 , 0.80348368, 0.81140844, 0.04561319, 0.11062446],\n",
       "       [0.02173531, 0.42808424, 0.83593944, 0.48948866, 0.51108173],\n",
       "       [0.43934426, 0.69892383, 0.42682022, 0.10947609, 0.87788847],\n",
       "       [0.25890557, 0.79367771, 0.6421139 , 0.19667346, 0.59310318],\n",
       "       [0.43216593, 0.71561781, 0.3418191 , 0.70499988, 0.61496184],\n",
       "       [0.78287982, 0.53633586, 0.44328356, 0.85969983, 0.01032599],\n",
       "       [0.9217762 , 0.93187122, 0.41487637, 0.59505727, 0.73562569],\n",
       "       [0.12667892, 0.2914703 , 0.06452848, 0.6805146 , 0.89281919]])"
      ]
     },
     "execution_count": 52,
     "metadata": {},
     "output_type": "execute_result"
    }
   ],
   "source": [
    "X"
   ]
  },
  {
   "cell_type": "code",
   "execution_count": 53,
   "id": "2d6ea30b-b6c2-4fb7-ae79-97ee7ed00b70",
   "metadata": {},
   "outputs": [],
   "source": [
    "new_row = np.array([[0.977718, 0.138594, 0.867264, 0.284583, 0.112673], [0.920995, 0.03783 , 0.48097 , 0.58218 , 0.724458], [0.268528, 0.232648, 0.284285, 0.905266, 0.786491],[0.268528, 0.232648, 0.284285, 0.905266, 0.786491], [0.578296, 0.730171, 0.818198, 0.493648, 0.840202], [0.515191, 0.187116, 0.55999 , 0.893004, 0.45831]])\n",
    "X = np.concatenate((X, new_row), axis=0)"
   ]
  },
  {
   "cell_type": "code",
   "execution_count": 54,
   "id": "1f30a567-e190-40ef-aa61-afd3e0c4d5af",
   "metadata": {},
   "outputs": [
    {
     "data": {
      "text/plain": [
       "array([[0.7281861 , 0.15469257, 0.73255167, 0.69399651, 0.05640131],\n",
       "       [0.24238435, 0.84409997, 0.5778091 , 0.67902128, 0.50195289],\n",
       "       [0.72952261, 0.7481062 , 0.67977464, 0.35655228, 0.67105368],\n",
       "       [0.77062024, 0.11440374, 0.04677993, 0.64832428, 0.27354905],\n",
       "       [0.6188123 , 0.33180214, 0.18728787, 0.75623847, 0.3288348 ],\n",
       "       [0.78495809, 0.91068235, 0.7081201 , 0.95922543, 0.0049115 ],\n",
       "       [0.14511079, 0.8966846 , 0.89632223, 0.72627154, 0.23627199],\n",
       "       [0.94506907, 0.28845905, 0.97880576, 0.96165559, 0.59801594],\n",
       "       [0.12572016, 0.86272469, 0.02854433, 0.24660527, 0.75120624],\n",
       "       [0.75759436, 0.35583141, 0.0165229 , 0.4342072 , 0.11243304],\n",
       "       [0.5367969 , 0.30878091, 0.41187929, 0.38822518, 0.5225283 ],\n",
       "       [0.95773967, 0.23566857, 0.09914585, 0.15680593, 0.07131737],\n",
       "       [0.6293079 , 0.80348368, 0.81140844, 0.04561319, 0.11062446],\n",
       "       [0.02173531, 0.42808424, 0.83593944, 0.48948866, 0.51108173],\n",
       "       [0.43934426, 0.69892383, 0.42682022, 0.10947609, 0.87788847],\n",
       "       [0.25890557, 0.79367771, 0.6421139 , 0.19667346, 0.59310318],\n",
       "       [0.43216593, 0.71561781, 0.3418191 , 0.70499988, 0.61496184],\n",
       "       [0.78287982, 0.53633586, 0.44328356, 0.85969983, 0.01032599],\n",
       "       [0.9217762 , 0.93187122, 0.41487637, 0.59505727, 0.73562569],\n",
       "       [0.12667892, 0.2914703 , 0.06452848, 0.6805146 , 0.89281919],\n",
       "       [0.977718  , 0.138594  , 0.867264  , 0.284583  , 0.112673  ],\n",
       "       [0.920995  , 0.03783   , 0.48097   , 0.58218   , 0.724458  ],\n",
       "       [0.268528  , 0.232648  , 0.284285  , 0.905266  , 0.786491  ],\n",
       "       [0.268528  , 0.232648  , 0.284285  , 0.905266  , 0.786491  ],\n",
       "       [0.578296  , 0.730171  , 0.818198  , 0.493648  , 0.840202  ],\n",
       "       [0.515191  , 0.187116  , 0.55999   , 0.893004  , 0.45831   ]])"
      ]
     },
     "execution_count": 54,
     "metadata": {},
     "output_type": "execute_result"
    }
   ],
   "source": [
    "X"
   ]
  },
  {
   "cell_type": "code",
   "execution_count": 55,
   "id": "94acaed2-68c4-4e50-aea6-f92d247ac102",
   "metadata": {},
   "outputs": [
    {
     "data": {
      "text/plain": [
       "array([-0.71426495, -1.20995524, -1.67219994, -1.53605771, -0.82923655,\n",
       "       -1.24704893, -1.23378638, -1.69434344, -2.57116963, -1.30911635,\n",
       "       -1.14478485, -1.91267714, -1.62283895, -1.35668211, -2.0184254 ,\n",
       "       -1.70255784, -1.29424696, -0.93575656, -2.15576776, -1.74688209])"
      ]
     },
     "execution_count": 55,
     "metadata": {},
     "output_type": "execute_result"
    }
   ],
   "source": [
    "Y"
   ]
  },
  {
   "cell_type": "code",
   "execution_count": 56,
   "id": "9f36219f-f885-4f04-935b-50f7aeae598b",
   "metadata": {},
   "outputs": [],
   "source": [
    "new_row = np.array([-1.431987070285614,  -1.8041381484255152, -1.4224869897156354, -1.5272868582803165, -1.6867407199659736, -0.9222380101975867])\n",
    "Y = np.concatenate((Y, new_row), axis=0)"
   ]
  },
  {
   "cell_type": "code",
   "execution_count": 57,
   "id": "7604d03d-3074-4a8d-83ce-5b70f40213dc",
   "metadata": {},
   "outputs": [
    {
     "data": {
      "text/plain": [
       "array([-0.71426495, -1.20995524, -1.67219994, -1.53605771, -0.82923655,\n",
       "       -1.24704893, -1.23378638, -1.69434344, -2.57116963, -1.30911635,\n",
       "       -1.14478485, -1.91267714, -1.62283895, -1.35668211, -2.0184254 ,\n",
       "       -1.70255784, -1.29424696, -0.93575656, -2.15576776, -1.74688209,\n",
       "       -1.43198707, -1.80413815, -1.42248699, -1.52728686, -1.68674072,\n",
       "       -0.92223801])"
      ]
     },
     "execution_count": 57,
     "metadata": {},
     "output_type": "execute_result"
    }
   ],
   "source": [
    "Y"
   ]
  },
  {
   "cell_type": "code",
   "execution_count": 58,
   "id": "3cb3003b-9f41-4cff-98dd-4353c138785f",
   "metadata": {},
   "outputs": [
    {
     "name": "stdout",
     "output_type": "stream",
     "text": [
      "[0.81448203 0.93784274 0.57652644 0.2216282  0.62157   ]\n"
     ]
    }
   ],
   "source": [
    "next_query = np.random.uniform(size = 5)\n",
    "print(next_query)"
   ]
  },
  {
   "cell_type": "code",
   "execution_count": 59,
   "id": "1a833630-a6a1-4766-aced-b497b3620c08",
   "metadata": {},
   "outputs": [],
   "source": [
    "# Function 7"
   ]
  },
  {
   "cell_type": "code",
   "execution_count": 60,
   "id": "d9c4d02a-1a92-4dde-b31f-5d8d11d4cc6b",
   "metadata": {},
   "outputs": [],
   "source": [
    "X = np.load(r'C:\\Users\\xdb13122\\Desktop\\ML Course\\capstone project\\initial_data\\function_7\\initial_inputs.npy')\n",
    "Y = np.load(r'C:\\Users\\xdb13122\\Desktop\\ML Course\\capstone project\\initial_data\\function_7\\initial_outputs.npy')"
   ]
  },
  {
   "cell_type": "code",
   "execution_count": 61,
   "id": "b5f2ec2b-2e2d-4caf-a00d-09659edcb5a7",
   "metadata": {},
   "outputs": [
    {
     "data": {
      "text/plain": [
       "array([[0.27262382, 0.32449536, 0.89710881, 0.83295115, 0.15406269,\n",
       "        0.79586362],\n",
       "       [0.54300258, 0.9246939 , 0.34156746, 0.64648585, 0.71844033,\n",
       "        0.34313266],\n",
       "       [0.09083225, 0.66152938, 0.06593091, 0.25857701, 0.96345285,\n",
       "        0.6402654 ],\n",
       "       [0.11886697, 0.61505494, 0.90581639, 0.8553003 , 0.41363143,\n",
       "        0.58523563],\n",
       "       [0.63021764, 0.8380969 , 0.68001305, 0.73189509, 0.52673671,\n",
       "        0.34842921],\n",
       "       [0.76491917, 0.25588292, 0.60908422, 0.21807904, 0.32294277,\n",
       "        0.09579366],\n",
       "       [0.05789554, 0.49167222, 0.24742222, 0.21811844, 0.42042833,\n",
       "        0.73096984],\n",
       "       [0.19525188, 0.07922665, 0.55458046, 0.17056682, 0.01494418,\n",
       "        0.10703171],\n",
       "       [0.64230298, 0.83687455, 0.02179269, 0.10148801, 0.68307083,\n",
       "        0.6924164 ],\n",
       "       [0.78994255, 0.19554501, 0.57562333, 0.07365919, 0.25904917,\n",
       "        0.05109986],\n",
       "       [0.52849733, 0.45742436, 0.36009569, 0.36204551, 0.81689098,\n",
       "        0.63747637],\n",
       "       [0.72261522, 0.01181284, 0.06364591, 0.16517311, 0.07924415,\n",
       "        0.35995166],\n",
       "       [0.07566492, 0.33450212, 0.13273274, 0.60831236, 0.91838592,\n",
       "        0.82233079],\n",
       "       [0.94245084, 0.37743962, 0.48612233, 0.22879108, 0.08263175,\n",
       "        0.71195755],\n",
       "       [0.14864702, 0.03394336, 0.72880565, 0.31606646, 0.02176938,\n",
       "        0.51691776],\n",
       "       [0.81711239, 0.54816823, 0.10334758, 0.12436955, 0.72823482,\n",
       "        0.44967361],\n",
       "       [0.41762629, 0.06409998, 0.24566877, 0.5590408 , 0.19153138,\n",
       "        0.25464092],\n",
       "       [0.72628566, 0.46489581, 0.92457051, 0.8072454 , 0.6354384 ,\n",
       "        0.14341787],\n",
       "       [0.31981043, 0.52009759, 0.29067775, 0.87670668, 0.49503469,\n",
       "        0.6190825 ],\n",
       "       [0.87987128, 0.39796199, 0.00363456, 0.95699064, 0.26451373,\n",
       "        0.11486924],\n",
       "       [0.54124078, 0.63140314, 0.03190205, 0.44998156, 0.79865282,\n",
       "        0.63370429],\n",
       "       [0.22634792, 0.11502581, 0.82474966, 0.94538372, 0.90531153,\n",
       "        0.95101392],\n",
       "       [0.68685257, 0.04101721, 0.00757301, 0.285009  , 0.69156848,\n",
       "        0.6555429 ],\n",
       "       [0.17597754, 0.6244165 , 0.29554198, 0.46955276, 0.09776977,\n",
       "        0.72814108],\n",
       "       [0.88164674, 0.20445019, 0.41447436, 0.42038468, 0.26491501,\n",
       "        0.73066019],\n",
       "       [0.06661051, 0.52804507, 0.8160952 , 0.96101714, 0.08650933,\n",
       "        0.77778822],\n",
       "       [0.93246638, 0.48881189, 0.25860774, 0.95624344, 0.19042781,\n",
       "        0.51985176],\n",
       "       [0.84686697, 0.14242917, 0.06066859, 0.75629213, 0.5523983 ,\n",
       "        0.08130609],\n",
       "       [0.80628208, 0.32412237, 0.72607601, 0.14871213, 0.7193764 ,\n",
       "        0.36288398],\n",
       "       [0.47682313, 0.34094195, 0.01433523, 0.88013956, 0.9986547 ,\n",
       "        0.07966402]])"
      ]
     },
     "execution_count": 61,
     "metadata": {},
     "output_type": "execute_result"
    }
   ],
   "source": [
    "X"
   ]
  },
  {
   "cell_type": "code",
   "execution_count": 62,
   "id": "f7a99c4d-974a-41a3-b058-f2ac2c568349",
   "metadata": {},
   "outputs": [],
   "source": [
    "new_row = np.array([[0.235899, 0.944719, 0.004945, 0.739153, 0.335826, 0.63657], [0.688778, 0.136624, 0.454863, 0.826606, 0.535921, 0.441488], [0.781096, 0.594824, 0.537477, 0.595198, 0.531149, 0.658673],[0.781096, 0.594824, 0.537477, 0.595198, 0.531149, 0.658673], [0.285721, 0.002347, 0.352438, 0.239105, 0.16805 , 0.4487], [0.25589 , 0.301358, 0.433284, 0.846921, 0.429744, 0.27699]])\n",
    "X = np.concatenate((X, new_row), axis=0)"
   ]
  },
  {
   "cell_type": "code",
   "execution_count": 63,
   "id": "43370242-3f4b-40d4-90fb-5a53395a4af9",
   "metadata": {},
   "outputs": [
    {
     "data": {
      "text/plain": [
       "array([[0.27262382, 0.32449536, 0.89710881, 0.83295115, 0.15406269,\n",
       "        0.79586362],\n",
       "       [0.54300258, 0.9246939 , 0.34156746, 0.64648585, 0.71844033,\n",
       "        0.34313266],\n",
       "       [0.09083225, 0.66152938, 0.06593091, 0.25857701, 0.96345285,\n",
       "        0.6402654 ],\n",
       "       [0.11886697, 0.61505494, 0.90581639, 0.8553003 , 0.41363143,\n",
       "        0.58523563],\n",
       "       [0.63021764, 0.8380969 , 0.68001305, 0.73189509, 0.52673671,\n",
       "        0.34842921],\n",
       "       [0.76491917, 0.25588292, 0.60908422, 0.21807904, 0.32294277,\n",
       "        0.09579366],\n",
       "       [0.05789554, 0.49167222, 0.24742222, 0.21811844, 0.42042833,\n",
       "        0.73096984],\n",
       "       [0.19525188, 0.07922665, 0.55458046, 0.17056682, 0.01494418,\n",
       "        0.10703171],\n",
       "       [0.64230298, 0.83687455, 0.02179269, 0.10148801, 0.68307083,\n",
       "        0.6924164 ],\n",
       "       [0.78994255, 0.19554501, 0.57562333, 0.07365919, 0.25904917,\n",
       "        0.05109986],\n",
       "       [0.52849733, 0.45742436, 0.36009569, 0.36204551, 0.81689098,\n",
       "        0.63747637],\n",
       "       [0.72261522, 0.01181284, 0.06364591, 0.16517311, 0.07924415,\n",
       "        0.35995166],\n",
       "       [0.07566492, 0.33450212, 0.13273274, 0.60831236, 0.91838592,\n",
       "        0.82233079],\n",
       "       [0.94245084, 0.37743962, 0.48612233, 0.22879108, 0.08263175,\n",
       "        0.71195755],\n",
       "       [0.14864702, 0.03394336, 0.72880565, 0.31606646, 0.02176938,\n",
       "        0.51691776],\n",
       "       [0.81711239, 0.54816823, 0.10334758, 0.12436955, 0.72823482,\n",
       "        0.44967361],\n",
       "       [0.41762629, 0.06409998, 0.24566877, 0.5590408 , 0.19153138,\n",
       "        0.25464092],\n",
       "       [0.72628566, 0.46489581, 0.92457051, 0.8072454 , 0.6354384 ,\n",
       "        0.14341787],\n",
       "       [0.31981043, 0.52009759, 0.29067775, 0.87670668, 0.49503469,\n",
       "        0.6190825 ],\n",
       "       [0.87987128, 0.39796199, 0.00363456, 0.95699064, 0.26451373,\n",
       "        0.11486924],\n",
       "       [0.54124078, 0.63140314, 0.03190205, 0.44998156, 0.79865282,\n",
       "        0.63370429],\n",
       "       [0.22634792, 0.11502581, 0.82474966, 0.94538372, 0.90531153,\n",
       "        0.95101392],\n",
       "       [0.68685257, 0.04101721, 0.00757301, 0.285009  , 0.69156848,\n",
       "        0.6555429 ],\n",
       "       [0.17597754, 0.6244165 , 0.29554198, 0.46955276, 0.09776977,\n",
       "        0.72814108],\n",
       "       [0.88164674, 0.20445019, 0.41447436, 0.42038468, 0.26491501,\n",
       "        0.73066019],\n",
       "       [0.06661051, 0.52804507, 0.8160952 , 0.96101714, 0.08650933,\n",
       "        0.77778822],\n",
       "       [0.93246638, 0.48881189, 0.25860774, 0.95624344, 0.19042781,\n",
       "        0.51985176],\n",
       "       [0.84686697, 0.14242917, 0.06066859, 0.75629213, 0.5523983 ,\n",
       "        0.08130609],\n",
       "       [0.80628208, 0.32412237, 0.72607601, 0.14871213, 0.7193764 ,\n",
       "        0.36288398],\n",
       "       [0.47682313, 0.34094195, 0.01433523, 0.88013956, 0.9986547 ,\n",
       "        0.07966402],\n",
       "       [0.235899  , 0.944719  , 0.004945  , 0.739153  , 0.335826  ,\n",
       "        0.63657   ],\n",
       "       [0.688778  , 0.136624  , 0.454863  , 0.826606  , 0.535921  ,\n",
       "        0.441488  ],\n",
       "       [0.781096  , 0.594824  , 0.537477  , 0.595198  , 0.531149  ,\n",
       "        0.658673  ],\n",
       "       [0.781096  , 0.594824  , 0.537477  , 0.595198  , 0.531149  ,\n",
       "        0.658673  ],\n",
       "       [0.285721  , 0.002347  , 0.352438  , 0.239105  , 0.16805   ,\n",
       "        0.4487    ],\n",
       "       [0.25589   , 0.301358  , 0.433284  , 0.846921  , 0.429744  ,\n",
       "        0.27699   ]])"
      ]
     },
     "execution_count": 63,
     "metadata": {},
     "output_type": "execute_result"
    }
   ],
   "source": [
    "X"
   ]
  },
  {
   "cell_type": "code",
   "execution_count": 64,
   "id": "903ce61f-4b1e-4b87-b799-97cf1c3bed13",
   "metadata": {},
   "outputs": [
    {
     "data": {
      "text/plain": [
       "array([0.6044327 , 0.56275307, 0.00750324, 0.0614243 , 0.2730468 ,\n",
       "       0.08374657, 1.3649683 , 0.09264495, 0.0178696 , 0.03356494,\n",
       "       0.0735163 , 0.2063097 , 0.00882563, 0.26840032, 0.61152553,\n",
       "       0.01479818, 0.27489251, 0.06676325, 0.04211835, 0.00270147,\n",
       "       0.01820907, 0.00701603, 0.10050661, 0.47539552, 0.67514163,\n",
       "       0.51645722, 0.00377748, 0.00313433, 0.02134252, 0.09541116])"
      ]
     },
     "execution_count": 64,
     "metadata": {},
     "output_type": "execute_result"
    }
   ],
   "source": [
    "Y"
   ]
  },
  {
   "cell_type": "code",
   "execution_count": 65,
   "id": "4c18fd13-c0de-432c-8603-5fb064e4cb2b",
   "metadata": {},
   "outputs": [],
   "source": [
    "new_row = np.array([0.04273390876638002,  0.026956962717603318, 0.10441277444373459, 0.10441277444373459, 1.4760409317927996, 0.07764281738338621])\n",
    "Y = np.concatenate((Y, new_row), axis=0)"
   ]
  },
  {
   "cell_type": "code",
   "execution_count": 66,
   "id": "5e40b772-a92e-450d-b3cf-45988681ed5f",
   "metadata": {},
   "outputs": [
    {
     "data": {
      "text/plain": [
       "array([0.6044327 , 0.56275307, 0.00750324, 0.0614243 , 0.2730468 ,\n",
       "       0.08374657, 1.3649683 , 0.09264495, 0.0178696 , 0.03356494,\n",
       "       0.0735163 , 0.2063097 , 0.00882563, 0.26840032, 0.61152553,\n",
       "       0.01479818, 0.27489251, 0.06676325, 0.04211835, 0.00270147,\n",
       "       0.01820907, 0.00701603, 0.10050661, 0.47539552, 0.67514163,\n",
       "       0.51645722, 0.00377748, 0.00313433, 0.02134252, 0.09541116,\n",
       "       0.04273391, 0.02695696, 0.10441277, 0.10441277, 1.47604093,\n",
       "       0.07764282])"
      ]
     },
     "execution_count": 66,
     "metadata": {},
     "output_type": "execute_result"
    }
   ],
   "source": [
    "Y"
   ]
  },
  {
   "cell_type": "code",
   "execution_count": 67,
   "id": "ec7ac7bc-ac14-4705-a6b2-21a9c8d731c3",
   "metadata": {},
   "outputs": [
    {
     "name": "stdout",
     "output_type": "stream",
     "text": [
      "[0.95932927 0.19485906 0.48056446 0.81595467 0.97092797 0.23424994]\n"
     ]
    }
   ],
   "source": [
    "next_query = np.random.uniform(size = 6)\n",
    "print(next_query)"
   ]
  },
  {
   "cell_type": "code",
   "execution_count": 68,
   "id": "2f29faab-ddf8-430b-90da-acf72eb0c648",
   "metadata": {},
   "outputs": [],
   "source": [
    "# Function 8"
   ]
  },
  {
   "cell_type": "code",
   "execution_count": 69,
   "id": "ab13157b-2f10-440a-92ac-899bdf055cbb",
   "metadata": {},
   "outputs": [],
   "source": [
    "X = np.load(r'C:\\Users\\xdb13122\\Desktop\\ML Course\\capstone project\\initial_data\\function_8\\initial_inputs.npy')\n",
    "Y = np.load(r'C:\\Users\\xdb13122\\Desktop\\ML Course\\capstone project\\initial_data\\function_8\\initial_outputs.npy')"
   ]
  },
  {
   "cell_type": "code",
   "execution_count": 70,
   "id": "e27c584e-61d1-4d3c-8c7f-816b61b3d5d8",
   "metadata": {},
   "outputs": [
    {
     "data": {
      "text/plain": [
       "array([[0.60499445, 0.29221502, 0.90845275, 0.35550624, 0.20166872,\n",
       "        0.57533801, 0.31031095, 0.73428138],\n",
       "       [0.17800696, 0.56622265, 0.99486184, 0.21032501, 0.32015266,\n",
       "        0.70790879, 0.63538449, 0.10713163],\n",
       "       [0.00907698, 0.81162615, 0.52052036, 0.07568668, 0.26511183,\n",
       "        0.09165169, 0.59241515, 0.36732026],\n",
       "       [0.50602816, 0.65373012, 0.36341078, 0.17798105, 0.0937283 ,\n",
       "        0.19742533, 0.7558269 , 0.29247234],\n",
       "       [0.35990926, 0.24907568, 0.49599717, 0.70921498, 0.11498719,\n",
       "        0.28920692, 0.55729515, 0.59388173],\n",
       "       [0.77881834, 0.0034195 , 0.33798313, 0.51952778, 0.82090699,\n",
       "        0.53724669, 0.5513471 , 0.66003209],\n",
       "       [0.90864932, 0.0622497 , 0.23825955, 0.76660355, 0.13233596,\n",
       "        0.99024381, 0.68806782, 0.74249594],\n",
       "       [0.58637144, 0.88073573, 0.74502075, 0.54603485, 0.00964888,\n",
       "        0.74899176, 0.23090707, 0.09791562],\n",
       "       [0.76113733, 0.85467239, 0.38212433, 0.33735198, 0.68970832,\n",
       "        0.30985305, 0.63137968, 0.04195607],\n",
       "       [0.9849332 , 0.69950626, 0.9988855 , 0.18014846, 0.58014315,\n",
       "        0.23108719, 0.49082694, 0.31368272],\n",
       "       [0.11207131, 0.43773566, 0.59659878, 0.59277563, 0.22698177,\n",
       "        0.41010452, 0.92123758, 0.67475276],\n",
       "       [0.79188751, 0.57619134, 0.69452836, 0.28342378, 0.13675546,\n",
       "        0.27916186, 0.84276726, 0.62532792],\n",
       "       [0.1435503 , 0.93741452, 0.23232482, 0.00904349, 0.41457893,\n",
       "        0.40932517, 0.55377852, 0.2058408 ],\n",
       "       [0.76991655, 0.45875909, 0.55900044, 0.69460444, 0.50319902,\n",
       "        0.72834638, 0.78425353, 0.66313109],\n",
       "       [0.05644741, 0.06595555, 0.02292868, 0.03878647, 0.40393544,\n",
       "        0.80105533, 0.48830701, 0.89308498],\n",
       "       [0.86243745, 0.48273382, 0.2818694 , 0.54410223, 0.88749026,\n",
       "        0.38265469, 0.60190199, 0.47646169],\n",
       "       [0.3515119 , 0.59006494, 0.9094363 , 0.67840835, 0.21282566,\n",
       "        0.08846038, 0.410153  , 0.19572429],\n",
       "       [0.73590364, 0.03461189, 0.72803027, 0.14742652, 0.29574314,\n",
       "        0.44511731, 0.97517969, 0.37433978],\n",
       "       [0.68029397, 0.25510465, 0.86218799, 0.13439582, 0.3263292 ,\n",
       "        0.28790687, 0.43501048, 0.36420013],\n",
       "       [0.04432925, 0.01358149, 0.25819824, 0.57764416, 0.05127992,\n",
       "        0.15856307, 0.59103012, 0.07795293],\n",
       "       [0.77834548, 0.75114565, 0.31414221, 0.90298577, 0.33538166,\n",
       "        0.38632267, 0.74897249, 0.9887551 ],\n",
       "       [0.89888711, 0.5236417 , 0.87678325, 0.21869645, 0.90026089,\n",
       "        0.28276624, 0.91107791, 0.47239822],\n",
       "       [0.14512029, 0.11932754, 0.42088822, 0.38760861, 0.15542283,\n",
       "        0.87517163, 0.51055967, 0.72861058],\n",
       "       [0.33895442, 0.56693202, 0.3767511 , 0.09891573, 0.65945169,\n",
       "        0.24554809, 0.76248278, 0.73215347],\n",
       "       [0.17615002, 0.29396143, 0.97567997, 0.79393631, 0.92340076,\n",
       "        0.03084229, 0.80325452, 0.59589758],\n",
       "       [0.02894663, 0.02827906, 0.48137155, 0.6131746 , 0.67266045,\n",
       "        0.02211341, 0.6014833 , 0.52488505],\n",
       "       [0.19263987, 0.63067728, 0.41679584, 0.49052929, 0.79608602,\n",
       "        0.65456706, 0.27624119, 0.29551759],\n",
       "       [0.94318502, 0.21885062, 0.72118408, 0.42459707, 0.986902  ,\n",
       "        0.53518298, 0.71474318, 0.96009372],\n",
       "       [0.5327214 , 0.8336926 , 0.071399  , 0.11681148, 0.73069311,\n",
       "        0.93737559, 0.86650798, 0.127902  ],\n",
       "       [0.44709584, 0.84395253, 0.72954612, 0.63915138, 0.40928714,\n",
       "        0.13264569, 0.03590888, 0.44683847],\n",
       "       [0.38222497, 0.55713584, 0.85310163, 0.33379569, 0.26572127,\n",
       "        0.48087292, 0.23764706, 0.76863196],\n",
       "       [0.53281953, 0.86230848, 0.53826712, 0.04944293, 0.71970119,\n",
       "        0.9067059 , 0.10823094, 0.52534791],\n",
       "       [0.39486519, 0.33180167, 0.7407543 , 0.69786172, 0.73740444,\n",
       "        0.78377681, 0.25449546, 0.87114551],\n",
       "       [0.98594539, 0.87305363, 0.07039262, 0.05358729, 0.73415296,\n",
       "        0.52025852, 0.81104004, 0.10336036],\n",
       "       [0.96457339, 0.97397979, 0.66375335, 0.66221599, 0.67312167,\n",
       "        0.90523762, 0.45887462, 0.5609175 ],\n",
       "       [0.47207071, 0.16820264, 0.08642757, 0.45265551, 0.48061922,\n",
       "        0.62243949, 0.92897446, 0.11253627],\n",
       "       [0.85600695, 0.6388937 , 0.32619202, 0.66850311, 0.24029837,\n",
       "        0.21029889, 0.16754636, 0.96358986],\n",
       "       [0.81003174, 0.63504604, 0.26954758, 0.86960534, 0.66192159,\n",
       "        0.25225873, 0.76567003, 0.89054867],\n",
       "       [0.79625252, 0.00703653, 0.35569738, 0.48756605, 0.74051962,\n",
       "        0.7066501 , 0.99291449, 0.38173437],\n",
       "       [0.48124533, 0.10246072, 0.21948594, 0.67732237, 0.24750919,\n",
       "        0.24434086, 0.16382453, 0.71596164]])"
      ]
     },
     "execution_count": 70,
     "metadata": {},
     "output_type": "execute_result"
    }
   ],
   "source": [
    "X"
   ]
  },
  {
   "cell_type": "code",
   "execution_count": 71,
   "id": "4ee2a81f-3a11-4407-bf05-77061c9093cd",
   "metadata": {},
   "outputs": [],
   "source": [
    "new_row = np.array([[0.725027, 0.436394, 0.87957 , 0.933559, 0.798216, 0.888921,\n",
    "       0.173093, 0.945768], [0.034582, 0.109186, 0.430764, 0.929268, 0.445779, 0.345447,\n",
    "       0.735088, 0.663642], [0.994523, 0.621785, 0.532   , 0.807742, 0.697183, 0.028489,\n",
    "       0.082252, 0.023909],[0.994523, 0.621785, 0.532   , 0.807742, 0.697183, 0.028489,\n",
    "       0.082252, 0.023909], [0.38694 , 0.891794, 0.22027 , 0.143945, 0.113756, 0.869592,\n",
    "       0.640013, 0.767532], [0.835086, 0.906052, 0.322912, 0.801064, 0.896511, 0.373978,\n",
    "       0.336207, 0.262152]])\n",
    "X = np.concatenate((X, new_row), axis=0)"
   ]
  },
  {
   "cell_type": "code",
   "execution_count": 72,
   "id": "6a874f4c-c1c4-41d3-ba4d-d4912c40e54f",
   "metadata": {},
   "outputs": [
    {
     "data": {
      "text/plain": [
       "array([[0.60499445, 0.29221502, 0.90845275, 0.35550624, 0.20166872,\n",
       "        0.57533801, 0.31031095, 0.73428138],\n",
       "       [0.17800696, 0.56622265, 0.99486184, 0.21032501, 0.32015266,\n",
       "        0.70790879, 0.63538449, 0.10713163],\n",
       "       [0.00907698, 0.81162615, 0.52052036, 0.07568668, 0.26511183,\n",
       "        0.09165169, 0.59241515, 0.36732026],\n",
       "       [0.50602816, 0.65373012, 0.36341078, 0.17798105, 0.0937283 ,\n",
       "        0.19742533, 0.7558269 , 0.29247234],\n",
       "       [0.35990926, 0.24907568, 0.49599717, 0.70921498, 0.11498719,\n",
       "        0.28920692, 0.55729515, 0.59388173],\n",
       "       [0.77881834, 0.0034195 , 0.33798313, 0.51952778, 0.82090699,\n",
       "        0.53724669, 0.5513471 , 0.66003209],\n",
       "       [0.90864932, 0.0622497 , 0.23825955, 0.76660355, 0.13233596,\n",
       "        0.99024381, 0.68806782, 0.74249594],\n",
       "       [0.58637144, 0.88073573, 0.74502075, 0.54603485, 0.00964888,\n",
       "        0.74899176, 0.23090707, 0.09791562],\n",
       "       [0.76113733, 0.85467239, 0.38212433, 0.33735198, 0.68970832,\n",
       "        0.30985305, 0.63137968, 0.04195607],\n",
       "       [0.9849332 , 0.69950626, 0.9988855 , 0.18014846, 0.58014315,\n",
       "        0.23108719, 0.49082694, 0.31368272],\n",
       "       [0.11207131, 0.43773566, 0.59659878, 0.59277563, 0.22698177,\n",
       "        0.41010452, 0.92123758, 0.67475276],\n",
       "       [0.79188751, 0.57619134, 0.69452836, 0.28342378, 0.13675546,\n",
       "        0.27916186, 0.84276726, 0.62532792],\n",
       "       [0.1435503 , 0.93741452, 0.23232482, 0.00904349, 0.41457893,\n",
       "        0.40932517, 0.55377852, 0.2058408 ],\n",
       "       [0.76991655, 0.45875909, 0.55900044, 0.69460444, 0.50319902,\n",
       "        0.72834638, 0.78425353, 0.66313109],\n",
       "       [0.05644741, 0.06595555, 0.02292868, 0.03878647, 0.40393544,\n",
       "        0.80105533, 0.48830701, 0.89308498],\n",
       "       [0.86243745, 0.48273382, 0.2818694 , 0.54410223, 0.88749026,\n",
       "        0.38265469, 0.60190199, 0.47646169],\n",
       "       [0.3515119 , 0.59006494, 0.9094363 , 0.67840835, 0.21282566,\n",
       "        0.08846038, 0.410153  , 0.19572429],\n",
       "       [0.73590364, 0.03461189, 0.72803027, 0.14742652, 0.29574314,\n",
       "        0.44511731, 0.97517969, 0.37433978],\n",
       "       [0.68029397, 0.25510465, 0.86218799, 0.13439582, 0.3263292 ,\n",
       "        0.28790687, 0.43501048, 0.36420013],\n",
       "       [0.04432925, 0.01358149, 0.25819824, 0.57764416, 0.05127992,\n",
       "        0.15856307, 0.59103012, 0.07795293],\n",
       "       [0.77834548, 0.75114565, 0.31414221, 0.90298577, 0.33538166,\n",
       "        0.38632267, 0.74897249, 0.9887551 ],\n",
       "       [0.89888711, 0.5236417 , 0.87678325, 0.21869645, 0.90026089,\n",
       "        0.28276624, 0.91107791, 0.47239822],\n",
       "       [0.14512029, 0.11932754, 0.42088822, 0.38760861, 0.15542283,\n",
       "        0.87517163, 0.51055967, 0.72861058],\n",
       "       [0.33895442, 0.56693202, 0.3767511 , 0.09891573, 0.65945169,\n",
       "        0.24554809, 0.76248278, 0.73215347],\n",
       "       [0.17615002, 0.29396143, 0.97567997, 0.79393631, 0.92340076,\n",
       "        0.03084229, 0.80325452, 0.59589758],\n",
       "       [0.02894663, 0.02827906, 0.48137155, 0.6131746 , 0.67266045,\n",
       "        0.02211341, 0.6014833 , 0.52488505],\n",
       "       [0.19263987, 0.63067728, 0.41679584, 0.49052929, 0.79608602,\n",
       "        0.65456706, 0.27624119, 0.29551759],\n",
       "       [0.94318502, 0.21885062, 0.72118408, 0.42459707, 0.986902  ,\n",
       "        0.53518298, 0.71474318, 0.96009372],\n",
       "       [0.5327214 , 0.8336926 , 0.071399  , 0.11681148, 0.73069311,\n",
       "        0.93737559, 0.86650798, 0.127902  ],\n",
       "       [0.44709584, 0.84395253, 0.72954612, 0.63915138, 0.40928714,\n",
       "        0.13264569, 0.03590888, 0.44683847],\n",
       "       [0.38222497, 0.55713584, 0.85310163, 0.33379569, 0.26572127,\n",
       "        0.48087292, 0.23764706, 0.76863196],\n",
       "       [0.53281953, 0.86230848, 0.53826712, 0.04944293, 0.71970119,\n",
       "        0.9067059 , 0.10823094, 0.52534791],\n",
       "       [0.39486519, 0.33180167, 0.7407543 , 0.69786172, 0.73740444,\n",
       "        0.78377681, 0.25449546, 0.87114551],\n",
       "       [0.98594539, 0.87305363, 0.07039262, 0.05358729, 0.73415296,\n",
       "        0.52025852, 0.81104004, 0.10336036],\n",
       "       [0.96457339, 0.97397979, 0.66375335, 0.66221599, 0.67312167,\n",
       "        0.90523762, 0.45887462, 0.5609175 ],\n",
       "       [0.47207071, 0.16820264, 0.08642757, 0.45265551, 0.48061922,\n",
       "        0.62243949, 0.92897446, 0.11253627],\n",
       "       [0.85600695, 0.6388937 , 0.32619202, 0.66850311, 0.24029837,\n",
       "        0.21029889, 0.16754636, 0.96358986],\n",
       "       [0.81003174, 0.63504604, 0.26954758, 0.86960534, 0.66192159,\n",
       "        0.25225873, 0.76567003, 0.89054867],\n",
       "       [0.79625252, 0.00703653, 0.35569738, 0.48756605, 0.74051962,\n",
       "        0.7066501 , 0.99291449, 0.38173437],\n",
       "       [0.48124533, 0.10246072, 0.21948594, 0.67732237, 0.24750919,\n",
       "        0.24434086, 0.16382453, 0.71596164],\n",
       "       [0.725027  , 0.436394  , 0.87957   , 0.933559  , 0.798216  ,\n",
       "        0.888921  , 0.173093  , 0.945768  ],\n",
       "       [0.034582  , 0.109186  , 0.430764  , 0.929268  , 0.445779  ,\n",
       "        0.345447  , 0.735088  , 0.663642  ],\n",
       "       [0.994523  , 0.621785  , 0.532     , 0.807742  , 0.697183  ,\n",
       "        0.028489  , 0.082252  , 0.023909  ],\n",
       "       [0.994523  , 0.621785  , 0.532     , 0.807742  , 0.697183  ,\n",
       "        0.028489  , 0.082252  , 0.023909  ],\n",
       "       [0.38694   , 0.891794  , 0.22027   , 0.143945  , 0.113756  ,\n",
       "        0.869592  , 0.640013  , 0.767532  ],\n",
       "       [0.835086  , 0.906052  , 0.322912  , 0.801064  , 0.896511  ,\n",
       "        0.373978  , 0.336207  , 0.262152  ]])"
      ]
     },
     "execution_count": 72,
     "metadata": {},
     "output_type": "execute_result"
    }
   ],
   "source": [
    "X"
   ]
  },
  {
   "cell_type": "code",
   "execution_count": 73,
   "id": "8f09fd2a-dff9-4cc0-9025-e6a5745ffd84",
   "metadata": {},
   "outputs": [
    {
     "data": {
      "text/plain": [
       "array([7.3987211 , 7.00522736, 8.45948162, 8.28400781, 8.60611679,\n",
       "       8.54174792, 7.32743458, 7.29987205, 7.95787474, 5.59219339,\n",
       "       7.85454099, 6.79198578, 8.97655402, 7.3790829 , 9.598482  ,\n",
       "       8.15998319, 7.13162397, 6.76796253, 7.43374407, 9.01307515,\n",
       "       7.31089382, 5.84106731, 9.14163949, 8.81755844, 6.45194313,\n",
       "       8.83074505, 9.34427428, 6.88784639, 8.04221254, 7.69236805,\n",
       "       7.92375877, 8.42175924, 8.2780624 , 7.11345716, 6.40258841,\n",
       "       8.47293632, 7.97768459, 7.46087219, 7.43659353, 9.18300525])"
      ]
     },
     "execution_count": 73,
     "metadata": {},
     "output_type": "execute_result"
    }
   ],
   "source": [
    "Y"
   ]
  },
  {
   "cell_type": "code",
   "execution_count": 74,
   "id": "6f22c451-bcc3-496c-b426-4a7e0570ebe1",
   "metadata": {},
   "outputs": [],
   "source": [
    "new_row = np.array([6.6724660542756, 8.4514733669101, 6.9711140222514, 6.9711140222514, 8.4984966149666, 7.7430955153231])\n",
    "Y = np.concatenate((Y, new_row), axis=0)"
   ]
  },
  {
   "cell_type": "code",
   "execution_count": 75,
   "id": "a92e66da-93ad-4de0-9df5-92e8d839b92f",
   "metadata": {},
   "outputs": [
    {
     "data": {
      "text/plain": [
       "array([7.3987211 , 7.00522736, 8.45948162, 8.28400781, 8.60611679,\n",
       "       8.54174792, 7.32743458, 7.29987205, 7.95787474, 5.59219339,\n",
       "       7.85454099, 6.79198578, 8.97655402, 7.3790829 , 9.598482  ,\n",
       "       8.15998319, 7.13162397, 6.76796253, 7.43374407, 9.01307515,\n",
       "       7.31089382, 5.84106731, 9.14163949, 8.81755844, 6.45194313,\n",
       "       8.83074505, 9.34427428, 6.88784639, 8.04221254, 7.69236805,\n",
       "       7.92375877, 8.42175924, 8.2780624 , 7.11345716, 6.40258841,\n",
       "       8.47293632, 7.97768459, 7.46087219, 7.43659353, 9.18300525,\n",
       "       6.67246605, 8.45147337, 6.97111402, 6.97111402, 8.49849661,\n",
       "       7.74309552])"
      ]
     },
     "execution_count": 75,
     "metadata": {},
     "output_type": "execute_result"
    }
   ],
   "source": [
    "Y"
   ]
  },
  {
   "cell_type": "code",
   "execution_count": 76,
   "id": "06bde45e-21cb-4fab-8fc0-82b213a07ecf",
   "metadata": {},
   "outputs": [
    {
     "name": "stdout",
     "output_type": "stream",
     "text": [
      "[0.93301524 0.26285281 0.66964763 0.3625376  0.98303335 0.69904316\n",
      " 0.44087946 0.84616439]\n"
     ]
    }
   ],
   "source": [
    "next_query = np.random.uniform(size = 8)\n",
    "print(next_query)"
   ]
  },
  {
   "cell_type": "code",
   "execution_count": null,
   "id": "e4785840-0cbb-4792-8529-053c93ff37cf",
   "metadata": {},
   "outputs": [],
   "source": []
  }
 ],
 "metadata": {
  "kernelspec": {
   "display_name": "Python 3 (ipykernel)",
   "language": "python",
   "name": "python3"
  },
  "language_info": {
   "codemirror_mode": {
    "name": "ipython",
    "version": 3
   },
   "file_extension": ".py",
   "mimetype": "text/x-python",
   "name": "python",
   "nbconvert_exporter": "python",
   "pygments_lexer": "ipython3",
   "version": "3.11.7"
  }
 },
 "nbformat": 4,
 "nbformat_minor": 5
}
